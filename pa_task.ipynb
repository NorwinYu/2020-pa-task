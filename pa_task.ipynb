{
  "nbformat": 4,
  "nbformat_minor": 0,
  "metadata": {
    "colab": {
      "name": "pg-task_v2.ipynb",
      "provenance": [],
      "collapsed_sections": [],
      "toc_visible": true
    },
    "kernelspec": {
      "name": "python3",
      "display_name": "Python 3"
    }
  },
  "cells": [
    {
      "cell_type": "code",
      "metadata": {
        "id": "BC3sTUuY-Lfp",
        "colab_type": "code",
        "outputId": "620b5f58-0ac7-47e9-cbf3-9757ea95356e",
        "colab": {
          "base_uri": "https://localhost:8080/",
          "height": 34
        }
      },
      "source": [
        "# from google.colab import drive\n",
        "# drive.mount('/content/drive')"
      ],
      "execution_count": 156,
      "outputs": [
        {
          "output_type": "stream",
          "text": [
            "Drive already mounted at /content/drive; to attempt to forcibly remount, call drive.mount(\"/content/drive\", force_remount=True).\n"
          ],
          "name": "stdout"
        }
      ]
    },
    {
      "cell_type": "code",
      "metadata": {
        "id": "1MYcSg_zBYZX",
        "colab_type": "code",
        "colab": {}
      },
      "source": [
        "import numpy as np\n",
        "import pandas as pd\n",
        "import warnings\n",
        "import os\n",
        "import lightgbm as lgb\n",
        "import matplotlib.pyplot as plt\n",
        "from sklearn import preprocessing, metrics\n",
        "from sklearn.preprocessing import LabelEncoder\n",
        "from sklearn.model_selection import GroupKFold, KFold, StratifiedKFold\n",
        "import gc\n",
        "from sklearn.utils import shuffle\n",
        "from sklearn.metrics import roc_auc_score, f1_score, accuracy_score, recall_score, precision_score\n",
        "pd.set_option('display.max_columns', None)\n",
        "pd.set_option('display.max_rows', None)"
      ],
      "execution_count": 0,
      "outputs": []
    },
    {
      "cell_type": "code",
      "metadata": {
        "id": "hAK481cEBxtz",
        "colab_type": "code",
        "colab": {}
      },
      "source": [
        "# train_path = '/content/drive/My Drive/pa_task_data'\n",
        "# 设置文件读取路径\n",
        "train_path = '.'"
      ],
      "execution_count": 0,
      "outputs": []
    },
    {
      "cell_type": "code",
      "metadata": {
        "id": "cqbZykL3Blx8",
        "colab_type": "code",
        "colab": {}
      },
      "source": [
        "df_data = pd.read_csv(os.path.join(train_path, 'pa-task-data.csv'))\n",
        "df_data['type'] = 'train'\n",
        "# df_data.to_pickle('/content/drive/My Drive/data.plk')"
      ],
      "execution_count": 0,
      "outputs": []
    },
    {
      "cell_type": "code",
      "metadata": {
        "id": "AmBFjivxCIEu",
        "colab_type": "code",
        "outputId": "2ec5f984-a60d-491f-e588-0fa930d7c8b9",
        "colab": {
          "base_uri": "https://localhost:8080/",
          "height": 204
        }
      },
      "source": [
        "df_data.head()"
      ],
      "execution_count": 160,
      "outputs": [
        {
          "output_type": "execute_result",
          "data": {
            "text/html": [
              "<div>\n",
              "<style scoped>\n",
              "    .dataframe tbody tr th:only-of-type {\n",
              "        vertical-align: middle;\n",
              "    }\n",
              "\n",
              "    .dataframe tbody tr th {\n",
              "        vertical-align: top;\n",
              "    }\n",
              "\n",
              "    .dataframe thead th {\n",
              "        text-align: right;\n",
              "    }\n",
              "</style>\n",
              "<table border=\"1\" class=\"dataframe\">\n",
              "  <thead>\n",
              "    <tr style=\"text-align: right;\">\n",
              "      <th></th>\n",
              "      <th>y</th>\n",
              "      <th>scr</th>\n",
              "      <th>diploma</th>\n",
              "      <th>home_ownership</th>\n",
              "      <th>car_ownership</th>\n",
              "      <th>location</th>\n",
              "      <th>constellation</th>\n",
              "      <th>grade</th>\n",
              "      <th>index</th>\n",
              "      <th>dk_cnt</th>\n",
              "      <th>tot_amnt</th>\n",
              "      <th>income</th>\n",
              "      <th>gender</th>\n",
              "      <th>occupation</th>\n",
              "      <th>dk_amnt(k)</th>\n",
              "      <th>emp_length</th>\n",
              "      <th>dq_cnt</th>\n",
              "      <th>type</th>\n",
              "    </tr>\n",
              "  </thead>\n",
              "  <tbody>\n",
              "    <tr>\n",
              "      <th>0</th>\n",
              "      <td>0</td>\n",
              "      <td>742</td>\n",
              "      <td>3</td>\n",
              "      <td>1</td>\n",
              "      <td>1</td>\n",
              "      <td>1</td>\n",
              "      <td>Aries</td>\n",
              "      <td>1</td>\n",
              "      <td>3</td>\n",
              "      <td>2</td>\n",
              "      <td>6</td>\n",
              "      <td>2</td>\n",
              "      <td>M</td>\n",
              "      <td>E</td>\n",
              "      <td>16</td>\n",
              "      <td>2</td>\n",
              "      <td>1</td>\n",
              "      <td>train</td>\n",
              "    </tr>\n",
              "    <tr>\n",
              "      <th>1</th>\n",
              "      <td>0</td>\n",
              "      <td>628</td>\n",
              "      <td>3</td>\n",
              "      <td>1</td>\n",
              "      <td>1</td>\n",
              "      <td>1</td>\n",
              "      <td>Capricom</td>\n",
              "      <td>4</td>\n",
              "      <td>9</td>\n",
              "      <td>1</td>\n",
              "      <td>1</td>\n",
              "      <td>1</td>\n",
              "      <td>M</td>\n",
              "      <td>D</td>\n",
              "      <td>66</td>\n",
              "      <td>2</td>\n",
              "      <td>1</td>\n",
              "      <td>train</td>\n",
              "    </tr>\n",
              "    <tr>\n",
              "      <th>2</th>\n",
              "      <td>0</td>\n",
              "      <td>763</td>\n",
              "      <td>4</td>\n",
              "      <td>1</td>\n",
              "      <td>0</td>\n",
              "      <td>1</td>\n",
              "      <td>Capricom</td>\n",
              "      <td>3</td>\n",
              "      <td>3</td>\n",
              "      <td>2</td>\n",
              "      <td>2</td>\n",
              "      <td>1</td>\n",
              "      <td>F</td>\n",
              "      <td>C</td>\n",
              "      <td>21</td>\n",
              "      <td>4</td>\n",
              "      <td>2</td>\n",
              "      <td>train</td>\n",
              "    </tr>\n",
              "    <tr>\n",
              "      <th>3</th>\n",
              "      <td>0</td>\n",
              "      <td>680</td>\n",
              "      <td>2</td>\n",
              "      <td>1</td>\n",
              "      <td>1</td>\n",
              "      <td>1</td>\n",
              "      <td>Virgo</td>\n",
              "      <td>3</td>\n",
              "      <td>3</td>\n",
              "      <td>1</td>\n",
              "      <td>1</td>\n",
              "      <td>3</td>\n",
              "      <td>F</td>\n",
              "      <td>E</td>\n",
              "      <td>71</td>\n",
              "      <td>1</td>\n",
              "      <td>1</td>\n",
              "      <td>train</td>\n",
              "    </tr>\n",
              "    <tr>\n",
              "      <th>4</th>\n",
              "      <td>1</td>\n",
              "      <td>436</td>\n",
              "      <td>1</td>\n",
              "      <td>1</td>\n",
              "      <td>1</td>\n",
              "      <td>1</td>\n",
              "      <td>Taurus</td>\n",
              "      <td>4</td>\n",
              "      <td>1</td>\n",
              "      <td>2</td>\n",
              "      <td>4</td>\n",
              "      <td>2</td>\n",
              "      <td>M</td>\n",
              "      <td>F</td>\n",
              "      <td>93</td>\n",
              "      <td>1</td>\n",
              "      <td>1</td>\n",
              "      <td>train</td>\n",
              "    </tr>\n",
              "  </tbody>\n",
              "</table>\n",
              "</div>"
            ],
            "text/plain": [
              "   y  scr  diploma  home_ownership  car_ownership  location constellation  \\\n",
              "0  0  742        3               1              1         1         Aries   \n",
              "1  0  628        3               1              1         1      Capricom   \n",
              "2  0  763        4               1              0         1      Capricom   \n",
              "3  0  680        2               1              1         1         Virgo   \n",
              "4  1  436        1               1              1         1        Taurus   \n",
              "\n",
              "   grade  index  dk_cnt  tot_amnt  income gender occupation  dk_amnt(k)  \\\n",
              "0      1      3       2         6       2      M          E          16   \n",
              "1      4      9       1         1       1      M          D          66   \n",
              "2      3      3       2         2       1      F          C          21   \n",
              "3      3      3       1         1       3      F          E          71   \n",
              "4      4      1       2         4       2      M          F          93   \n",
              "\n",
              "   emp_length  dq_cnt   type  \n",
              "0           2       1  train  \n",
              "1           2       1  train  \n",
              "2           4       2  train  \n",
              "3           1       1  train  \n",
              "4           1       1  train  "
            ]
          },
          "metadata": {
            "tags": []
          },
          "execution_count": 160
        }
      ]
    },
    {
      "cell_type": "code",
      "metadata": {
        "id": "CfYEpmZ1CSLO",
        "colab_type": "code",
        "outputId": "5fa549ed-decd-4986-948c-79dc5b686c5e",
        "colab": {
          "base_uri": "https://localhost:8080/",
          "height": 282
        }
      },
      "source": [
        "df_data['scr'].hist()"
      ],
      "execution_count": 0,
      "outputs": [
        {
          "output_type": "execute_result",
          "data": {
            "text/plain": [
              "<matplotlib.axes._subplots.AxesSubplot at 0x7f56e64a6f28>"
            ]
          },
          "metadata": {
            "tags": []
          },
          "execution_count": 5
        },
        {
          "output_type": "display_data",
          "data": {
            "image/png": "[encoded data removed]",
            "text/plain": [
              "<Figure size 432x288 with 1 Axes>"
            ]
          },
          "metadata": {
            "tags": [],
            "needs_background": "light"
          }
        }
      ]
    },
    {
      "cell_type": "code",
      "metadata": {
        "id": "VlFiiZg8Cqgr",
        "colab_type": "code",
        "outputId": "84992772-cff6-412b-db94-3bfc7ed62f94",
        "colab": {
          "base_uri": "https://localhost:8080/",
          "height": 119
        }
      },
      "source": [
        "# 数据特征猜测： 学历\n",
        "df_data['diploma'].value_counts()"
      ],
      "execution_count": 0,
      "outputs": [
        {
          "output_type": "execute_result",
          "data": {
            "text/plain": [
              "1    40045\n",
              "2    24862\n",
              "3    20188\n",
              "4     9950\n",
              "5     4955\n",
              "Name: diploma, dtype: int64"
            ]
          },
          "metadata": {
            "tags": []
          },
          "execution_count": 6
        }
      ]
    },
    {
      "cell_type": "code",
      "metadata": {
        "id": "IiMiN8w4CvRO",
        "colab_type": "code",
        "outputId": "d0f950f0-b836-42d9-b66d-2a3797328041",
        "colab": {
          "base_uri": "https://localhost:8080/",
          "height": 68
        }
      },
      "source": [
        "# 数据特征猜测： 是否拥有房产\n",
        "df_data['home_ownership'].value_counts()"
      ],
      "execution_count": 0,
      "outputs": [
        {
          "output_type": "execute_result",
          "data": {
            "text/plain": [
              "1    80731\n",
              "0    19269\n",
              "Name: home_ownership, dtype: int64"
            ]
          },
          "metadata": {
            "tags": []
          },
          "execution_count": 7
        }
      ]
    },
    {
      "cell_type": "code",
      "metadata": {
        "id": "7-w_8OIZDBFc",
        "colab_type": "code",
        "outputId": "fea2818f-6761-4e27-8ded-5122b1273481",
        "colab": {
          "base_uri": "https://localhost:8080/",
          "height": 68
        }
      },
      "source": [
        "# 数据特征猜测： 是否拥有车\n",
        "df_data['car_ownership'].value_counts()"
      ],
      "execution_count": 0,
      "outputs": [
        {
          "output_type": "execute_result",
          "data": {
            "text/plain": [
              "1    60829\n",
              "0    39171\n",
              "Name: car_ownership, dtype: int64"
            ]
          },
          "metadata": {
            "tags": []
          },
          "execution_count": 8
        }
      ]
    },
    {
      "cell_type": "code",
      "metadata": {
        "id": "4jZaf_FEDJ-E",
        "colab_type": "code",
        "outputId": "c0c8c74a-e74d-4c9c-86a3-5014fc321703",
        "colab": {
          "base_uri": "https://localhost:8080/",
          "height": 68
        }
      },
      "source": [
        "df_data['location'].value_counts()"
      ],
      "execution_count": 0,
      "outputs": [
        {
          "output_type": "execute_result",
          "data": {
            "text/plain": [
              "1    70757\n",
              "0    29243\n",
              "Name: location, dtype: int64"
            ]
          },
          "metadata": {
            "tags": []
          },
          "execution_count": 9
        }
      ]
    },
    {
      "cell_type": "code",
      "metadata": {
        "id": "sNjMcK6vDWjq",
        "colab_type": "code",
        "outputId": "55fa4f86-28e0-455f-dba5-7808432b47ed",
        "colab": {
          "base_uri": "https://localhost:8080/",
          "height": 238
        }
      },
      "source": [
        "# 数据特征猜测： 星座\n",
        "df_data['constellation'].value_counts()\n",
        "\n",
        "# 牡羊座/白羊座 (3/21 - 4/20)的英文名：Aries\n",
        "# 金牛座 (4/21 - 5/20)的英文名： Taurus\n",
        "# 双子座 (5/21 - 6/21)的英文名： Gemini\n",
        "# 巨蟹座 (6/22 - 7/22)的英文名： Cancer\n",
        "# 狮子座 (7/23 - 8/22)的英文名： Leo\n",
        "# 处女座/室女座 (8/23 - 9/22)的英文名： Virgo\n",
        "# 天秤座 (9/23 - 10/22)的英文名： Libra\n",
        "# 天蝎座 (10/23 - 11/21)的英文名： Scorpio\n",
        "# 射手座/人马座 (11/22 - 12/21)的英文名： Sagittarius\n",
        "# 魔羯座/山羊座 (12/22 - 1/19)的英文名： Capricorn\n",
        "# 水瓶座 (1/20 - 2/18)的英文名： Aquarius\n",
        "# 双鱼座 (2/19 - 3/20)的英文名： Pisces\n",
        "# https://www.8s8s.com/xingzuo/xingzuozhishi/18624.html"
      ],
      "execution_count": 0,
      "outputs": [
        {
          "output_type": "execute_result",
          "data": {
            "text/plain": [
              "Libra          8938\n",
              "Virgo          8933\n",
              "Capricom       8812\n",
              "Taurus         8793\n",
              "Aries          8391\n",
              "Sagittarius    8321\n",
              "Aquarius       8031\n",
              "Pisces         8013\n",
              "Scorpio        7979\n",
              "Leo            7948\n",
              "Gemini         7942\n",
              "Cacer          7899\n",
              "Name: constellation, dtype: int64"
            ]
          },
          "metadata": {
            "tags": []
          },
          "execution_count": 10
        }
      ]
    },
    {
      "cell_type": "code",
      "metadata": {
        "id": "ZGlipOF4D-SF",
        "colab_type": "code",
        "outputId": "f8ef2e5f-2e00-4926-d32f-9125762656d7",
        "colab": {
          "base_uri": "https://localhost:8080/",
          "height": 170
        }
      },
      "source": [
        "# 数据特征猜测： 用户等级（分段）\n",
        "df_data['grade'].value_counts()"
      ],
      "execution_count": 0,
      "outputs": [
        {
          "output_type": "execute_result",
          "data": {
            "text/plain": [
              "3    29239\n",
              "4    24703\n",
              "2    19448\n",
              "5     9988\n",
              "6     5136\n",
              "1     4831\n",
              "8     3533\n",
              "7     3122\n",
              "Name: grade, dtype: int64"
            ]
          },
          "metadata": {
            "tags": []
          },
          "execution_count": 11
        }
      ]
    },
    {
      "cell_type": "code",
      "metadata": {
        "id": "EMUdTNYEDcq5",
        "colab_type": "code",
        "outputId": "21ae8851-4d83-4d1b-8943-8f4e9726bbbb",
        "colab": {
          "base_uri": "https://localhost:8080/",
          "height": 204
        }
      },
      "source": [
        "df_data['index'].value_counts()"
      ],
      "execution_count": 0,
      "outputs": [
        {
          "output_type": "execute_result",
          "data": {
            "text/plain": [
              "2     10102\n",
              "7     10079\n",
              "6     10060\n",
              "8     10052\n",
              "4     10045\n",
              "10    10027\n",
              "1     10012\n",
              "9      9998\n",
              "5      9871\n",
              "3      9754\n",
              "Name: index, dtype: int64"
            ]
          },
          "metadata": {
            "tags": []
          },
          "execution_count": 12
        }
      ]
    },
    {
      "cell_type": "code",
      "metadata": {
        "id": "cl6fNkB_XGrr",
        "colab_type": "code",
        "outputId": "c7bac4b7-633a-4d26-9413-0f3fb54f8ee1",
        "colab": {
          "base_uri": "https://localhost:8080/",
          "height": 136
        }
      },
      "source": [
        "# 数据特征猜测： 贷款数量\n",
        "df_data['dk_cnt'].value_counts()"
      ],
      "execution_count": 0,
      "outputs": [
        {
          "output_type": "execute_result",
          "data": {
            "text/plain": [
              "2    51393\n",
              "1    33740\n",
              "3     8239\n",
              "4     3044\n",
              "6     2194\n",
              "5     1390\n",
              "Name: dk_cnt, dtype: int64"
            ]
          },
          "metadata": {
            "tags": []
          },
          "execution_count": 13
        }
      ]
    },
    {
      "cell_type": "code",
      "metadata": {
        "id": "pNLI8cPnXMXc",
        "colab_type": "code",
        "outputId": "35d11187-d707-46cb-9ff9-973cc85ab892",
        "colab": {
          "base_uri": "https://localhost:8080/",
          "height": 136
        }
      },
      "source": [
        "# 数据特征猜测： 总金额？\n",
        "df_data['tot_amnt'].value_counts()"
      ],
      "execution_count": 0,
      "outputs": [
        {
          "output_type": "execute_result",
          "data": {
            "text/plain": [
              "2    38539\n",
              "1    33740\n",
              "3    13687\n",
              "4     6900\n",
              "6     4343\n",
              "5     2791\n",
              "Name: tot_amnt, dtype: int64"
            ]
          },
          "metadata": {
            "tags": []
          },
          "execution_count": 14
        }
      ]
    },
    {
      "cell_type": "code",
      "metadata": {
        "id": "as6ybZN3XVv2",
        "colab_type": "code",
        "outputId": "45b400dc-7d22-45a9-b8a2-ae8579408c43",
        "colab": {
          "base_uri": "https://localhost:8080/",
          "height": 153
        }
      },
      "source": [
        "# 数据特征猜测： 收入（分段）\n",
        "df_data['income'].value_counts()"
      ],
      "execution_count": 0,
      "outputs": [
        {
          "output_type": "execute_result",
          "data": {
            "text/plain": [
              "1    46209\n",
              "2    19926\n",
              "3    10942\n",
              "4     7887\n",
              "5     5953\n",
              "6     4973\n",
              "7     4110\n",
              "Name: income, dtype: int64"
            ]
          },
          "metadata": {
            "tags": []
          },
          "execution_count": 15
        }
      ]
    },
    {
      "cell_type": "code",
      "metadata": {
        "id": "e3bO0xzIXn9b",
        "colab_type": "code",
        "outputId": "a256759d-46bc-48bf-ef17-b29d4ad5ee27",
        "colab": {
          "base_uri": "https://localhost:8080/",
          "height": 68
        }
      },
      "source": [
        "# 数据特征猜测： 年龄\n",
        "df_data['gender'].value_counts()"
      ],
      "execution_count": 0,
      "outputs": [
        {
          "output_type": "execute_result",
          "data": {
            "text/plain": [
              "M    51379\n",
              "F    48621\n",
              "Name: gender, dtype: int64"
            ]
          },
          "metadata": {
            "tags": []
          },
          "execution_count": 16
        }
      ]
    },
    {
      "cell_type": "code",
      "metadata": {
        "id": "vCb6l97dXvzL",
        "colab_type": "code",
        "outputId": "00dcd692-3719-4536-8fd0-89007131c597",
        "colab": {
          "base_uri": "https://localhost:8080/",
          "height": 153
        }
      },
      "source": [
        "# 数据特征猜测： 职业领域\n",
        "df_data['occupation'].value_counts()"
      ],
      "execution_count": 0,
      "outputs": [
        {
          "output_type": "execute_result",
          "data": {
            "text/plain": [
              "G    14392\n",
              "F    14373\n",
              "A    14311\n",
              "E    14306\n",
              "D    14271\n",
              "B    14257\n",
              "C    14090\n",
              "Name: occupation, dtype: int64"
            ]
          },
          "metadata": {
            "tags": []
          },
          "execution_count": 17
        }
      ]
    },
    {
      "cell_type": "code",
      "metadata": {
        "id": "SmAkE8UkX63q",
        "colab_type": "code",
        "outputId": "9f6aa819-45e0-4907-8ed6-41171209dfd2",
        "colab": {
          "base_uri": "https://localhost:8080/",
          "height": 282
        }
      },
      "source": [
        "# 数据特征猜测： 贷款金额\n",
        "df_data['dk_amnt(k)'].hist()"
      ],
      "execution_count": 0,
      "outputs": [
        {
          "output_type": "execute_result",
          "data": {
            "text/plain": [
              "<matplotlib.axes._subplots.AxesSubplot at 0x7f56e644b128>"
            ]
          },
          "metadata": {
            "tags": []
          },
          "execution_count": 18
        },
        {
          "output_type": "display_data",
          "data": {
            "image/png": "[encoded data removed]",
            "text/plain": [
              "<Figure size 432x288 with 1 Axes>"
            ]
          },
          "metadata": {
            "tags": [],
            "needs_background": "light"
          }
        }
      ]
    },
    {
      "cell_type": "code",
      "metadata": {
        "id": "T6U5jCWIYIwW",
        "colab_type": "code",
        "outputId": "ec79dce6-bba1-4d9c-c031-57b94bb5670c",
        "colab": {
          "base_uri": "https://localhost:8080/",
          "height": 119
        }
      },
      "source": [
        "# 数据特征猜测： 工作时长\n",
        "df_data['emp_length'].value_counts()"
      ],
      "execution_count": 0,
      "outputs": [
        {
          "output_type": "execute_result",
          "data": {
            "text/plain": [
              "1    20146\n",
              "4    20008\n",
              "5    20006\n",
              "3    19991\n",
              "2    19849\n",
              "Name: emp_length, dtype: int64"
            ]
          },
          "metadata": {
            "tags": []
          },
          "execution_count": 19
        }
      ]
    },
    {
      "cell_type": "code",
      "metadata": {
        "id": "uPhirqHGYVD8",
        "colab_type": "code",
        "outputId": "ab3deec3-6c2e-4f4c-cfd7-5f19e082994c",
        "colab": {
          "base_uri": "https://localhost:8080/",
          "height": 119
        }
      },
      "source": [
        "# 数据特征猜测： dq？数量\n",
        "df_data['dq_cnt'].value_counts()"
      ],
      "execution_count": 0,
      "outputs": [
        {
          "output_type": "execute_result",
          "data": {
            "text/plain": [
              "1    75520\n",
              "5    14048\n",
              "2     4368\n",
              "3     4320\n",
              "4     1744\n",
              "Name: dq_cnt, dtype: int64"
            ]
          },
          "metadata": {
            "tags": []
          },
          "execution_count": 20
        }
      ]
    },
    {
      "cell_type": "code",
      "metadata": {
        "id": "99Vp3RrfYddJ",
        "colab_type": "code",
        "outputId": "c1f02bf2-2e71-4fc0-a8b6-fea77642349f",
        "colab": {
          "base_uri": "https://localhost:8080/",
          "height": 68
        }
      },
      "source": [
        "# label 分布\n",
        "df_data['y'].value_counts()"
      ],
      "execution_count": 0,
      "outputs": [
        {
          "output_type": "execute_result",
          "data": {
            "text/plain": [
              "0    96003\n",
              "1     3997\n",
              "Name: y, dtype: int64"
            ]
          },
          "metadata": {
            "tags": []
          },
          "execution_count": 21
        }
      ]
    },
    {
      "cell_type": "code",
      "metadata": {
        "id": "aU89NE9HZFp-",
        "colab_type": "code",
        "outputId": "90377d2d-73d8-4e8f-cb4a-b6c01c235729",
        "colab": {
          "base_uri": "https://localhost:8080/",
          "height": 71
        }
      },
      "source": [
        "# from feature_selector import FeatureSelector\n",
        "# https://github.com/WillKoehrsen/feature-selector"
      ],
      "execution_count": 0,
      "outputs": [
        {
          "output_type": "stream",
          "text": [
            "/usr/local/lib/python3.6/dist-packages/statsmodels/tools/_testing.py:19: FutureWarning: pandas.util.testing is deprecated. Use the functions in the public API at pandas.testing instead.\n",
            "  import pandas.util.testing as tm\n"
          ],
          "name": "stderr"
        }
      ]
    },
    {
      "cell_type": "code",
      "metadata": {
        "id": "Vh4wiKr2Zdjk",
        "colab_type": "code",
        "colab": {}
      },
      "source": [
        "# fs = FeatureSelector(data = df_data.drop(columns = ['y', 'type']), labels = df_data['y'])"
      ],
      "execution_count": 0,
      "outputs": []
    },
    {
      "cell_type": "code",
      "metadata": {
        "id": "AApcyeQZZyfa",
        "colab_type": "code",
        "outputId": "6cc210ce-c904-4f08-b43f-14849ac23617",
        "colab": {
          "base_uri": "https://localhost:8080/",
          "height": 51
        }
      },
      "source": [
        "# fs.identify_missing(missing_threshold=0.01)"
      ],
      "execution_count": 0,
      "outputs": [
        {
          "output_type": "stream",
          "text": [
            "0 features with greater than 0.01 missing values.\n",
            "\n"
          ],
          "name": "stdout"
        }
      ]
    },
    {
      "cell_type": "code",
      "metadata": {
        "id": "2JX21HokZ3Du",
        "colab_type": "code",
        "outputId": "f7dae99f-eece-4d0c-8f56-07d6727e05c3",
        "colab": {
          "base_uri": "https://localhost:8080/",
          "height": 51
        }
      },
      "source": [
        "# fs.identify_single_unique()"
      ],
      "execution_count": 0,
      "outputs": [
        {
          "output_type": "stream",
          "text": [
            "0 features with a single unique value.\n",
            "\n"
          ],
          "name": "stdout"
        }
      ]
    },
    {
      "cell_type": "code",
      "metadata": {
        "id": "YHAK5BfxZ9Ug",
        "colab_type": "code",
        "outputId": "4b41438a-9795-4ec6-de27-d4f0340a1bea",
        "colab": {
          "base_uri": "https://localhost:8080/",
          "height": 51
        }
      },
      "source": [
        "# fs.identify_collinear(correlation_threshold=0.9)"
      ],
      "execution_count": 0,
      "outputs": [
        {
          "output_type": "stream",
          "text": [
            "0 features with a correlation magnitude greater than 0.90.\n",
            "\n"
          ],
          "name": "stdout"
        }
      ]
    },
    {
      "cell_type": "code",
      "metadata": {
        "id": "spAFBgMCaH0Q",
        "colab_type": "code",
        "outputId": "6a07dbb5-0428-4e88-d667-d86fb8cebb16",
        "colab": {
          "base_uri": "https://localhost:8080/",
          "height": 612
        }
      },
      "source": [
        "# fs.identify_zero_importance(task = 'classification', eval_metric = 'auc', \n",
        "#                             n_iterations = 10, early_stopping = True)"
      ],
      "execution_count": 0,
      "outputs": [
        {
          "output_type": "stream",
          "text": [
            "Training Gradient Boosting Model\n",
            "\n",
            "Training until validation scores don't improve for 100 rounds.\n",
            "Early stopping, best iteration is:\n",
            "[166]\tvalid_0's auc: 0.96828\tvalid_0's binary_logloss: 0.0698629\n",
            "Training until validation scores don't improve for 100 rounds.\n",
            "Early stopping, best iteration is:\n",
            "[147]\tvalid_0's auc: 0.964939\tvalid_0's binary_logloss: 0.074618\n",
            "Training until validation scores don't improve for 100 rounds.\n",
            "Early stopping, best iteration is:\n",
            "[132]\tvalid_0's auc: 0.955877\tvalid_0's binary_logloss: 0.0784346\n",
            "Training until validation scores don't improve for 100 rounds.\n",
            "Early stopping, best iteration is:\n",
            "[127]\tvalid_0's auc: 0.957627\tvalid_0's binary_logloss: 0.0761528\n",
            "Training until validation scores don't improve for 100 rounds.\n",
            "Early stopping, best iteration is:\n",
            "[126]\tvalid_0's auc: 0.964634\tvalid_0's binary_logloss: 0.0724945\n",
            "Training until validation scores don't improve for 100 rounds.\n",
            "Early stopping, best iteration is:\n",
            "[145]\tvalid_0's auc: 0.960566\tvalid_0's binary_logloss: 0.0770967\n",
            "Training until validation scores don't improve for 100 rounds.\n",
            "Early stopping, best iteration is:\n",
            "[125]\tvalid_0's auc: 0.961834\tvalid_0's binary_logloss: 0.0720314\n",
            "Training until validation scores don't improve for 100 rounds.\n",
            "Early stopping, best iteration is:\n",
            "[151]\tvalid_0's auc: 0.962909\tvalid_0's binary_logloss: 0.0739902\n",
            "Training until validation scores don't improve for 100 rounds.\n",
            "Early stopping, best iteration is:\n",
            "[184]\tvalid_0's auc: 0.968504\tvalid_0's binary_logloss: 0.0697789\n",
            "Training until validation scores don't improve for 100 rounds.\n",
            "Early stopping, best iteration is:\n",
            "[172]\tvalid_0's auc: 0.964429\tvalid_0's binary_logloss: 0.0721406\n",
            "\n",
            "0 features with zero importance after one-hot encoding.\n",
            "\n"
          ],
          "name": "stdout"
        }
      ]
    },
    {
      "cell_type": "code",
      "metadata": {
        "id": "mC58nYDeYqJE",
        "colab_type": "code",
        "colab": {}
      },
      "source": [
        "df_feature = df_data.copy()"
      ],
      "execution_count": 0,
      "outputs": []
    },
    {
      "cell_type": "code",
      "metadata": {
        "id": "ROYqnj6Y0SdG",
        "colab_type": "code",
        "colab": {}
      },
      "source": [
        "# df_feature.to_pickle('/content/drive/My Drive/feature.plk')"
      ],
      "execution_count": 0,
      "outputs": []
    },
    {
      "cell_type": "code",
      "metadata": {
        "id": "qR5Y7Wq8Idho",
        "colab_type": "code",
        "colab": {}
      },
      "source": [
        "# df_feature = pd.read_pickle('/content/drive/My Drive/feature.plk')"
      ],
      "execution_count": 0,
      "outputs": []
    },
    {
      "cell_type": "code",
      "metadata": {
        "id": "npgySwk4Za0W",
        "colab_type": "code",
        "colab": {}
      },
      "source": [
        "for f in df_feature.select_dtypes('object'):\n",
        "    if f not in ['date', 'type']:\n",
        "        print(f)\n",
        "        lbl = LabelEncoder()\n",
        "        df_feature[f] = lbl.fit_transform(df_feature[f].astype(str))"
      ],
      "execution_count": 0,
      "outputs": []
    },
    {
      "cell_type": "code",
      "metadata": {
        "id": "rsWKAhtufAEn",
        "colab_type": "code",
        "colab": {}
      },
      "source": [
        "df_feature['home_car_ownership'] = df_feature[['home_ownership', 'car_ownership']].apply(lambda x: x[0]+x[1]*2, axis=1)"
      ],
      "execution_count": 0,
      "outputs": []
    },
    {
      "cell_type": "code",
      "metadata": {
        "id": "2W3WUcrUjmWf",
        "colab_type": "code",
        "colab": {}
      },
      "source": [
        "df_feature['dk_dq_cnt_ratio'] = df_feature['dk_cnt'] / df_feature['dq_cnt']\n",
        "df_feature['dk_dq_cnt_sum'] = df_feature['dk_cnt'] + df_feature['dq_cnt']"
      ],
      "execution_count": 0,
      "outputs": []
    },
    {
      "cell_type": "code",
      "metadata": {
        "id": "HEfbay11tozJ",
        "colab_type": "code",
        "colab": {}
      },
      "source": [
        "df_feature['dk_amnt_per_cnt'] = df_feature['dk_amnt(k)'] / df_feature['dk_cnt']"
      ],
      "execution_count": 0,
      "outputs": []
    },
    {
      "cell_type": "code",
      "metadata": {
        "id": "lHJNYFMqvCH2",
        "colab_type": "code",
        "colab": {}
      },
      "source": [
        "df_feature['dk_amnt_income_ratio'] = df_feature['dk_amnt(k)'] / df_feature['income']"
      ],
      "execution_count": 0,
      "outputs": []
    },
    {
      "cell_type": "code",
      "metadata": {
        "id": "9uJTZ_Y6vvAE",
        "colab_type": "code",
        "colab": {}
      },
      "source": [
        "df_feature['dk_amnt_emp_length_ratio'] = df_feature['dk_amnt(k)'] / df_feature['emp_length']"
      ],
      "execution_count": 0,
      "outputs": []
    },
    {
      "cell_type": "code",
      "metadata": {
        "id": "Lyfu0dIkwxM4",
        "colab_type": "code",
        "colab": {}
      },
      "source": [
        "df_feature['income_occupation'] = df_feature[['income', 'occupation']].apply(lambda x: x[0]*7+x[1], axis=1)"
      ],
      "execution_count": 0,
      "outputs": []
    },
    {
      "cell_type": "code",
      "metadata": {
        "id": "1DMVcMmKfIyv",
        "colab_type": "code",
        "colab": {}
      },
      "source": [
        "# df_feature.to_pickle('/content/drive/My Drive/feature_1.plk')"
      ],
      "execution_count": 0,
      "outputs": []
    },
    {
      "cell_type": "code",
      "metadata": {
        "id": "nkbWFGVLfPoQ",
        "colab_type": "code",
        "colab": {}
      },
      "source": [
        "# df_feature = pd.read_pickle('/content/drive/My Drive/feature_1.plk')"
      ],
      "execution_count": 0,
      "outputs": []
    },
    {
      "cell_type": "code",
      "metadata": {
        "id": "0zPlzH-VESTy",
        "colab_type": "code",
        "colab": {}
      },
      "source": [
        "def group_base_mean(df_feature, group, base):\n",
        "  group_array = df_feature[group].unique()\n",
        "  f_dict = {}\n",
        "  for group_element in group_array:\n",
        "    f_dict[group_element] = df_feature[df_feature[group] == group_element][base].mean()\n",
        "  df_feature[group+\"_\"+base+\"_mean_diff\"] = df_feature[[base, group]].apply(lambda x: x[0]-f_dict[x[1]], axis=1)"
      ],
      "execution_count": 0,
      "outputs": []
    },
    {
      "cell_type": "code",
      "metadata": {
        "id": "CKy1bGxbU0oS",
        "colab_type": "code",
        "colab": {}
      },
      "source": [
        "def group_base_median(df_feature, group, base):\n",
        "  group_array = df_feature[group].unique()\n",
        "  f_dict = {}\n",
        "  for group_element in group_array:\n",
        "    f_dict[group_element] = df_feature[df_feature[group] == group_element][base].median()\n",
        "  df_feature[group+\"_\"+base+\"_median_diff\"] = df_feature[[base, group]].apply(lambda x: x[0]-f_dict[x[1]], axis=1)"
      ],
      "execution_count": 0,
      "outputs": []
    },
    {
      "cell_type": "code",
      "metadata": {
        "id": "MP2Ro7n9JUBb",
        "colab_type": "code",
        "colab": {}
      },
      "source": [
        "def group_base_max(df_feature, group, base):\n",
        "  group_array = df_feature[group].unique()\n",
        "  f_dict = {}\n",
        "  for group_element in group_array:\n",
        "    f_dict[group_element] = df_feature[df_feature[group] == group_element][base].max()\n",
        "  df_feature[group+\"_\"+base+\"_max_diff\"] = df_feature[[base, group]].apply(lambda x: x[0]-f_dict[x[1]], axis=1)"
      ],
      "execution_count": 0,
      "outputs": []
    },
    {
      "cell_type": "code",
      "metadata": {
        "id": "b59kyfKqUsId",
        "colab_type": "code",
        "colab": {}
      },
      "source": [
        "def group_base_min(df_feature, group, base):\n",
        "  group_array = df_feature[group].unique()\n",
        "  f_dict = {}\n",
        "  for group_element in group_array:\n",
        "    f_dict[group_element] = df_feature[df_feature[group] == group_element][base].min()\n",
        "  df_feature[group+\"_\"+base+\"_min_diff\"] = df_feature[[base, group]].apply(lambda x: x[0]-f_dict[x[1]], axis=1)"
      ],
      "execution_count": 0,
      "outputs": []
    },
    {
      "cell_type": "code",
      "metadata": {
        "id": "N7YRRZK2PNJK",
        "colab_type": "code",
        "colab": {}
      },
      "source": [
        "for group in ['constellation', 'grade', 'index', 'occupation', 'diploma']:\n",
        "  for base in ['scr', 'dk_cnt', 'tot_amnt', 'income', 'dk_amnt(k)', 'emp_length', 'dq_cnt']:\n",
        "    for f in [group_base_mean, group_base_median, group_base_max, group_base_min]:\n",
        "      f(df_feature, group, base)"
      ],
      "execution_count": 0,
      "outputs": []
    },
    {
      "cell_type": "code",
      "metadata": {
        "id": "NOPbYJZdaRDo",
        "colab_type": "code",
        "colab": {}
      },
      "source": [
        "# df_feature.to_pickle('/content/drive/My Drive/feature_2.plk')"
      ],
      "execution_count": 0,
      "outputs": []
    },
    {
      "cell_type": "code",
      "metadata": {
        "id": "pGxS2hnQQ5eq",
        "colab_type": "code",
        "colab": {}
      },
      "source": [
        "# df_feature = pd.read_pickle('/content/drive/My Drive/feature_2.plk')"
      ],
      "execution_count": 0,
      "outputs": []
    },
    {
      "cell_type": "code",
      "metadata": {
        "id": "vDpIskyVS5w_",
        "colab_type": "code",
        "colab": {}
      },
      "source": [
        "df_feature['scr_bin'] = pd.cut(df_feature['scr'], bins=5, labels=['scr_bin_0', 'scr_bin_1', 'scr_bin_2', 'scr_bin_3', 'scr_bin_4'])"
      ],
      "execution_count": 0,
      "outputs": []
    },
    {
      "cell_type": "code",
      "metadata": {
        "id": "tzIddoWwUCy8",
        "colab_type": "code",
        "colab": {}
      },
      "source": [
        "for group in ['scr_bin']:\n",
        "  for base in ['scr', 'diploma', 'constellation', 'grade', 'index', 'dk_cnt', 'tot_amnt', 'income', 'occupation', 'dk_amnt(k)', 'emp_length', 'dq_cnt']:\n",
        "    for f in [group_base_mean, group_base_median, group_base_max, group_base_min]:\n",
        "      f(df_feature, group, base)"
      ],
      "execution_count": 0,
      "outputs": []
    },
    {
      "cell_type": "code",
      "metadata": {
        "id": "QuD4pYlM_1co",
        "colab_type": "code",
        "colab": {}
      },
      "source": [
        "df_feature['scr_bin'] = lbl.fit_transform(df_feature['scr_bin'])"
      ],
      "execution_count": 0,
      "outputs": []
    },
    {
      "cell_type": "code",
      "metadata": {
        "id": "xHUPDHDZfWy1",
        "colab_type": "code",
        "colab": {}
      },
      "source": [
        "# df_feature.to_pickle('/content/drive/My Drive/feature_3.plk')"
      ],
      "execution_count": 0,
      "outputs": []
    },
    {
      "cell_type": "code",
      "metadata": {
        "id": "WvgH4p5V7u9Y",
        "colab_type": "code",
        "colab": {}
      },
      "source": [
        "# df_feature = pd.read_pickle('/content/drive/My Drive/feature_3.plk')"
      ],
      "execution_count": 0,
      "outputs": []
    },
    {
      "cell_type": "code",
      "metadata": {
        "id": "EOZolEahfbfp",
        "colab_type": "code",
        "colab": {}
      },
      "source": [
        "df_feature['dk_amnt(k)_bin'] = pd.cut(df_feature['dk_amnt(k)'], bins=10, labels=['dk_amnt(k)_bin_0', 'dk_amnt(k)_bin_1', 'dk_amnt(k)_bin_2', 'dk_amnt(k)_bin_3', 'dk_amnt(k)_bin_4', 'dk_amnt(k)_bin_5', 'dk_amnt(k)_bin_6', 'dk_amnt(k)_bin_7', 'dk_amnt(k)_bin_8', 'dk_amnt(k)_bin_9'])\n",
        "for group in ['dk_amnt(k)_bin']:\n",
        "  for base in ['scr', 'diploma', 'constellation', 'grade', 'index', 'dk_cnt', 'tot_amnt', 'income', 'occupation', 'dk_amnt(k)', 'emp_length', 'dq_cnt']:\n",
        "    for f in [group_base_mean, group_base_median, group_base_max, group_base_min]:\n",
        "      f(df_feature, group, base)"
      ],
      "execution_count": 0,
      "outputs": []
    },
    {
      "cell_type": "code",
      "metadata": {
        "id": "CRiTUDoOChc_",
        "colab_type": "code",
        "colab": {}
      },
      "source": [
        "df_feature['dk_amnt(k)_bin'] = lbl.fit_transform(df_feature['dk_amnt(k)_bin'])"
      ],
      "execution_count": 0,
      "outputs": []
    },
    {
      "cell_type": "code",
      "metadata": {
        "id": "j8N4XndsCnlf",
        "colab_type": "code",
        "colab": {}
      },
      "source": [
        "# df_feature.to_pickle('/content/drive/My Drive/feature_4.plk')"
      ],
      "execution_count": 0,
      "outputs": []
    },
    {
      "cell_type": "code",
      "metadata": {
        "id": "xeXcdzl6CpL7",
        "colab_type": "code",
        "colab": {}
      },
      "source": [
        "# df_feature = pd.read_pickle('/content/drive/My Drive/feature_4.plk')"
      ],
      "execution_count": 0,
      "outputs": []
    },
    {
      "cell_type": "code",
      "metadata": {
        "id": "W6506UNacLOb",
        "colab_type": "code",
        "colab": {}
      },
      "source": [
        "label_0_idxs = df_feature.index[df_feature['y'] == 0].to_list()\n",
        "label_1_idxs = df_feature.index[df_feature['y'] == 1].to_list()\n",
        "test_size_0 = 19200\n",
        "test_size_1 = 800\n",
        "import random\n",
        "random.seed(2020)\n",
        "label_0_test_idxs = random.sample(label_0_idxs, test_size_0)\n",
        "label_1_test_idxs = random.sample(label_1_idxs, test_size_1)"
      ],
      "execution_count": 0,
      "outputs": []
    },
    {
      "cell_type": "code",
      "metadata": {
        "id": "3pRPJaGKQ8qb",
        "colab_type": "code",
        "outputId": "55e1cf22-002b-4ed2-88d0-e5945da76bd3",
        "colab": {
          "base_uri": "https://localhost:8080/",
          "height": 224
        }
      },
      "source": [
        "df_feature.head()"
      ],
      "execution_count": 260,
      "outputs": [
        {
          "output_type": "execute_result",
          "data": {
            "text/html": [
              "<div>\n",
              "<style scoped>\n",
              "    .dataframe tbody tr th:only-of-type {\n",
              "        vertical-align: middle;\n",
              "    }\n",
              "\n",
              "    .dataframe tbody tr th {\n",
              "        vertical-align: top;\n",
              "    }\n",
              "\n",
              "    .dataframe thead th {\n",
              "        text-align: right;\n",
              "    }\n",
              "</style>\n",
              "<table border=\"1\" class=\"dataframe\">\n",
              "  <thead>\n",
              "    <tr style=\"text-align: right;\">\n",
              "      <th></th>\n",
              "      <th>y</th>\n",
              "      <th>scr</th>\n",
              "      <th>diploma</th>\n",
              "      <th>home_ownership</th>\n",
              "      <th>car_ownership</th>\n",
              "      <th>location</th>\n",
              "      <th>constellation</th>\n",
              "      <th>grade</th>\n",
              "      <th>index</th>\n",
              "      <th>dk_cnt</th>\n",
              "      <th>tot_amnt</th>\n",
              "      <th>income</th>\n",
              "      <th>gender</th>\n",
              "      <th>occupation</th>\n",
              "      <th>dk_amnt(k)</th>\n",
              "      <th>emp_length</th>\n",
              "      <th>dq_cnt</th>\n",
              "      <th>type</th>\n",
              "      <th>home_car_ownership</th>\n",
              "      <th>dk_dq_cnt_ratio</th>\n",
              "      <th>dk_dq_cnt_sum</th>\n",
              "      <th>dk_amnt_per_cnt</th>\n",
              "      <th>dk_amnt_income_ratio</th>\n",
              "      <th>dk_amnt_emp_length_ratio</th>\n",
              "      <th>income_occupation</th>\n",
              "      <th>constellation_scr_mean_diff</th>\n",
              "      <th>constellation_scr_median_diff</th>\n",
              "      <th>constellation_scr_max_diff</th>\n",
              "      <th>constellation_scr_min_diff</th>\n",
              "      <th>constellation_dk_cnt_mean_diff</th>\n",
              "      <th>constellation_dk_cnt_median_diff</th>\n",
              "      <th>constellation_dk_cnt_max_diff</th>\n",
              "      <th>constellation_dk_cnt_min_diff</th>\n",
              "      <th>constellation_tot_amnt_mean_diff</th>\n",
              "      <th>constellation_tot_amnt_median_diff</th>\n",
              "      <th>constellation_tot_amnt_max_diff</th>\n",
              "      <th>constellation_tot_amnt_min_diff</th>\n",
              "      <th>constellation_income_mean_diff</th>\n",
              "      <th>constellation_income_median_diff</th>\n",
              "      <th>constellation_income_max_diff</th>\n",
              "      <th>constellation_income_min_diff</th>\n",
              "      <th>constellation_dk_amnt(k)_mean_diff</th>\n",
              "      <th>constellation_dk_amnt(k)_median_diff</th>\n",
              "      <th>constellation_dk_amnt(k)_max_diff</th>\n",
              "      <th>constellation_dk_amnt(k)_min_diff</th>\n",
              "      <th>constellation_emp_length_mean_diff</th>\n",
              "      <th>constellation_emp_length_median_diff</th>\n",
              "      <th>constellation_emp_length_max_diff</th>\n",
              "      <th>constellation_emp_length_min_diff</th>\n",
              "      <th>constellation_dq_cnt_mean_diff</th>\n",
              "      <th>constellation_dq_cnt_median_diff</th>\n",
              "      <th>constellation_dq_cnt_max_diff</th>\n",
              "      <th>constellation_dq_cnt_min_diff</th>\n",
              "      <th>grade_scr_mean_diff</th>\n",
              "      <th>grade_scr_median_diff</th>\n",
              "      <th>grade_scr_max_diff</th>\n",
              "      <th>grade_scr_min_diff</th>\n",
              "      <th>grade_dk_cnt_mean_diff</th>\n",
              "      <th>grade_dk_cnt_median_diff</th>\n",
              "      <th>grade_dk_cnt_max_diff</th>\n",
              "      <th>grade_dk_cnt_min_diff</th>\n",
              "      <th>grade_tot_amnt_mean_diff</th>\n",
              "      <th>grade_tot_amnt_median_diff</th>\n",
              "      <th>grade_tot_amnt_max_diff</th>\n",
              "      <th>grade_tot_amnt_min_diff</th>\n",
              "      <th>grade_income_mean_diff</th>\n",
              "      <th>grade_income_median_diff</th>\n",
              "      <th>grade_income_max_diff</th>\n",
              "      <th>grade_income_min_diff</th>\n",
              "      <th>grade_dk_amnt(k)_mean_diff</th>\n",
              "      <th>grade_dk_amnt(k)_median_diff</th>\n",
              "      <th>grade_dk_amnt(k)_max_diff</th>\n",
              "      <th>grade_dk_amnt(k)_min_diff</th>\n",
              "      <th>grade_emp_length_mean_diff</th>\n",
              "      <th>grade_emp_length_median_diff</th>\n",
              "      <th>grade_emp_length_max_diff</th>\n",
              "      <th>grade_emp_length_min_diff</th>\n",
              "      <th>grade_dq_cnt_mean_diff</th>\n",
              "      <th>grade_dq_cnt_median_diff</th>\n",
              "      <th>grade_dq_cnt_max_diff</th>\n",
              "      <th>grade_dq_cnt_min_diff</th>\n",
              "      <th>index_scr_mean_diff</th>\n",
              "      <th>index_scr_median_diff</th>\n",
              "      <th>index_scr_max_diff</th>\n",
              "      <th>index_scr_min_diff</th>\n",
              "      <th>index_dk_cnt_mean_diff</th>\n",
              "      <th>index_dk_cnt_median_diff</th>\n",
              "      <th>index_dk_cnt_max_diff</th>\n",
              "      <th>index_dk_cnt_min_diff</th>\n",
              "      <th>index_tot_amnt_mean_diff</th>\n",
              "      <th>index_tot_amnt_median_diff</th>\n",
              "      <th>index_tot_amnt_max_diff</th>\n",
              "      <th>index_tot_amnt_min_diff</th>\n",
              "      <th>index_income_mean_diff</th>\n",
              "      <th>index_income_median_diff</th>\n",
              "      <th>index_income_max_diff</th>\n",
              "      <th>index_income_min_diff</th>\n",
              "      <th>index_dk_amnt(k)_mean_diff</th>\n",
              "      <th>index_dk_amnt(k)_median_diff</th>\n",
              "      <th>index_dk_amnt(k)_max_diff</th>\n",
              "      <th>index_dk_amnt(k)_min_diff</th>\n",
              "      <th>index_emp_length_mean_diff</th>\n",
              "      <th>index_emp_length_median_diff</th>\n",
              "      <th>index_emp_length_max_diff</th>\n",
              "      <th>index_emp_length_min_diff</th>\n",
              "      <th>index_dq_cnt_mean_diff</th>\n",
              "      <th>index_dq_cnt_median_diff</th>\n",
              "      <th>index_dq_cnt_max_diff</th>\n",
              "      <th>index_dq_cnt_min_diff</th>\n",
              "      <th>occupation_scr_mean_diff</th>\n",
              "      <th>occupation_scr_median_diff</th>\n",
              "      <th>occupation_scr_max_diff</th>\n",
              "      <th>occupation_scr_min_diff</th>\n",
              "      <th>occupation_dk_cnt_mean_diff</th>\n",
              "      <th>occupation_dk_cnt_median_diff</th>\n",
              "      <th>occupation_dk_cnt_max_diff</th>\n",
              "      <th>occupation_dk_cnt_min_diff</th>\n",
              "      <th>occupation_tot_amnt_mean_diff</th>\n",
              "      <th>occupation_tot_amnt_median_diff</th>\n",
              "      <th>occupation_tot_amnt_max_diff</th>\n",
              "      <th>occupation_tot_amnt_min_diff</th>\n",
              "      <th>occupation_income_mean_diff</th>\n",
              "      <th>occupation_income_median_diff</th>\n",
              "      <th>occupation_income_max_diff</th>\n",
              "      <th>occupation_income_min_diff</th>\n",
              "      <th>occupation_dk_amnt(k)_mean_diff</th>\n",
              "      <th>occupation_dk_amnt(k)_median_diff</th>\n",
              "      <th>occupation_dk_amnt(k)_max_diff</th>\n",
              "      <th>occupation_dk_amnt(k)_min_diff</th>\n",
              "      <th>occupation_emp_length_mean_diff</th>\n",
              "      <th>occupation_emp_length_median_diff</th>\n",
              "      <th>occupation_emp_length_max_diff</th>\n",
              "      <th>occupation_emp_length_min_diff</th>\n",
              "      <th>occupation_dq_cnt_mean_diff</th>\n",
              "      <th>occupation_dq_cnt_median_diff</th>\n",
              "      <th>occupation_dq_cnt_max_diff</th>\n",
              "      <th>occupation_dq_cnt_min_diff</th>\n",
              "      <th>diploma_scr_mean_diff</th>\n",
              "      <th>diploma_scr_median_diff</th>\n",
              "      <th>diploma_scr_max_diff</th>\n",
              "      <th>diploma_scr_min_diff</th>\n",
              "      <th>diploma_dk_cnt_mean_diff</th>\n",
              "      <th>diploma_dk_cnt_median_diff</th>\n",
              "      <th>diploma_dk_cnt_max_diff</th>\n",
              "      <th>diploma_dk_cnt_min_diff</th>\n",
              "      <th>diploma_tot_amnt_mean_diff</th>\n",
              "      <th>diploma_tot_amnt_median_diff</th>\n",
              "      <th>diploma_tot_amnt_max_diff</th>\n",
              "      <th>diploma_tot_amnt_min_diff</th>\n",
              "      <th>diploma_income_mean_diff</th>\n",
              "      <th>diploma_income_median_diff</th>\n",
              "      <th>diploma_income_max_diff</th>\n",
              "      <th>diploma_income_min_diff</th>\n",
              "      <th>diploma_dk_amnt(k)_mean_diff</th>\n",
              "      <th>diploma_dk_amnt(k)_median_diff</th>\n",
              "      <th>diploma_dk_amnt(k)_max_diff</th>\n",
              "      <th>diploma_dk_amnt(k)_min_diff</th>\n",
              "      <th>diploma_emp_length_mean_diff</th>\n",
              "      <th>diploma_emp_length_median_diff</th>\n",
              "      <th>diploma_emp_length_max_diff</th>\n",
              "      <th>diploma_emp_length_min_diff</th>\n",
              "      <th>diploma_dq_cnt_mean_diff</th>\n",
              "      <th>diploma_dq_cnt_median_diff</th>\n",
              "      <th>diploma_dq_cnt_max_diff</th>\n",
              "      <th>diploma_dq_cnt_min_diff</th>\n",
              "      <th>scr_bin</th>\n",
              "      <th>scr_bin_scr_mean_diff</th>\n",
              "      <th>scr_bin_scr_median_diff</th>\n",
              "      <th>scr_bin_scr_max_diff</th>\n",
              "      <th>scr_bin_scr_min_diff</th>\n",
              "      <th>scr_bin_diploma_mean_diff</th>\n",
              "      <th>scr_bin_diploma_median_diff</th>\n",
              "      <th>scr_bin_diploma_max_diff</th>\n",
              "      <th>scr_bin_diploma_min_diff</th>\n",
              "      <th>scr_bin_constellation_mean_diff</th>\n",
              "      <th>scr_bin_constellation_median_diff</th>\n",
              "      <th>scr_bin_constellation_max_diff</th>\n",
              "      <th>scr_bin_constellation_min_diff</th>\n",
              "      <th>scr_bin_grade_mean_diff</th>\n",
              "      <th>scr_bin_grade_median_diff</th>\n",
              "      <th>scr_bin_grade_max_diff</th>\n",
              "      <th>scr_bin_grade_min_diff</th>\n",
              "      <th>scr_bin_index_mean_diff</th>\n",
              "      <th>scr_bin_index_median_diff</th>\n",
              "      <th>scr_bin_index_max_diff</th>\n",
              "      <th>scr_bin_index_min_diff</th>\n",
              "      <th>scr_bin_dk_cnt_mean_diff</th>\n",
              "      <th>scr_bin_dk_cnt_median_diff</th>\n",
              "      <th>scr_bin_dk_cnt_max_diff</th>\n",
              "      <th>scr_bin_dk_cnt_min_diff</th>\n",
              "      <th>scr_bin_tot_amnt_mean_diff</th>\n",
              "      <th>scr_bin_tot_amnt_median_diff</th>\n",
              "      <th>scr_bin_tot_amnt_max_diff</th>\n",
              "      <th>scr_bin_tot_amnt_min_diff</th>\n",
              "      <th>scr_bin_income_mean_diff</th>\n",
              "      <th>scr_bin_income_median_diff</th>\n",
              "      <th>scr_bin_income_max_diff</th>\n",
              "      <th>scr_bin_income_min_diff</th>\n",
              "      <th>scr_bin_occupation_mean_diff</th>\n",
              "      <th>scr_bin_occupation_median_diff</th>\n",
              "      <th>scr_bin_occupation_max_diff</th>\n",
              "      <th>scr_bin_occupation_min_diff</th>\n",
              "      <th>scr_bin_dk_amnt(k)_mean_diff</th>\n",
              "      <th>scr_bin_dk_amnt(k)_median_diff</th>\n",
              "      <th>scr_bin_dk_amnt(k)_max_diff</th>\n",
              "      <th>scr_bin_dk_amnt(k)_min_diff</th>\n",
              "      <th>scr_bin_emp_length_mean_diff</th>\n",
              "      <th>scr_bin_emp_length_median_diff</th>\n",
              "      <th>scr_bin_emp_length_max_diff</th>\n",
              "      <th>scr_bin_emp_length_min_diff</th>\n",
              "      <th>scr_bin_dq_cnt_mean_diff</th>\n",
              "      <th>scr_bin_dq_cnt_median_diff</th>\n",
              "      <th>scr_bin_dq_cnt_max_diff</th>\n",
              "      <th>scr_bin_dq_cnt_min_diff</th>\n",
              "      <th>dk_amnt(k)_bin</th>\n",
              "      <th>dk_amnt(k)_bin_scr_mean_diff</th>\n",
              "      <th>dk_amnt(k)_bin_scr_median_diff</th>\n",
              "      <th>dk_amnt(k)_bin_scr_max_diff</th>\n",
              "      <th>dk_amnt(k)_bin_scr_min_diff</th>\n",
              "      <th>dk_amnt(k)_bin_diploma_mean_diff</th>\n",
              "      <th>dk_amnt(k)_bin_diploma_median_diff</th>\n",
              "      <th>dk_amnt(k)_bin_diploma_max_diff</th>\n",
              "      <th>dk_amnt(k)_bin_diploma_min_diff</th>\n",
              "      <th>dk_amnt(k)_bin_constellation_mean_diff</th>\n",
              "      <th>dk_amnt(k)_bin_constellation_median_diff</th>\n",
              "      <th>dk_amnt(k)_bin_constellation_max_diff</th>\n",
              "      <th>dk_amnt(k)_bin_constellation_min_diff</th>\n",
              "      <th>dk_amnt(k)_bin_grade_mean_diff</th>\n",
              "      <th>dk_amnt(k)_bin_grade_median_diff</th>\n",
              "      <th>dk_amnt(k)_bin_grade_max_diff</th>\n",
              "      <th>dk_amnt(k)_bin_grade_min_diff</th>\n",
              "      <th>dk_amnt(k)_bin_index_mean_diff</th>\n",
              "      <th>dk_amnt(k)_bin_index_median_diff</th>\n",
              "      <th>dk_amnt(k)_bin_index_max_diff</th>\n",
              "      <th>dk_amnt(k)_bin_index_min_diff</th>\n",
              "      <th>dk_amnt(k)_bin_dk_cnt_mean_diff</th>\n",
              "      <th>dk_amnt(k)_bin_dk_cnt_median_diff</th>\n",
              "      <th>dk_amnt(k)_bin_dk_cnt_max_diff</th>\n",
              "      <th>dk_amnt(k)_bin_dk_cnt_min_diff</th>\n",
              "      <th>dk_amnt(k)_bin_tot_amnt_mean_diff</th>\n",
              "      <th>dk_amnt(k)_bin_tot_amnt_median_diff</th>\n",
              "      <th>dk_amnt(k)_bin_tot_amnt_max_diff</th>\n",
              "      <th>dk_amnt(k)_bin_tot_amnt_min_diff</th>\n",
              "      <th>dk_amnt(k)_bin_income_mean_diff</th>\n",
              "      <th>dk_amnt(k)_bin_income_median_diff</th>\n",
              "      <th>dk_amnt(k)_bin_income_max_diff</th>\n",
              "      <th>dk_amnt(k)_bin_income_min_diff</th>\n",
              "      <th>dk_amnt(k)_bin_occupation_mean_diff</th>\n",
              "      <th>dk_amnt(k)_bin_occupation_median_diff</th>\n",
              "      <th>dk_amnt(k)_bin_occupation_max_diff</th>\n",
              "      <th>dk_amnt(k)_bin_occupation_min_diff</th>\n",
              "      <th>dk_amnt(k)_bin_dk_amnt(k)_mean_diff</th>\n",
              "      <th>dk_amnt(k)_bin_dk_amnt(k)_median_diff</th>\n",
              "      <th>dk_amnt(k)_bin_dk_amnt(k)_max_diff</th>\n",
              "      <th>dk_amnt(k)_bin_dk_amnt(k)_min_diff</th>\n",
              "      <th>dk_amnt(k)_bin_emp_length_mean_diff</th>\n",
              "      <th>dk_amnt(k)_bin_emp_length_median_diff</th>\n",
              "      <th>dk_amnt(k)_bin_emp_length_max_diff</th>\n",
              "      <th>dk_amnt(k)_bin_emp_length_min_diff</th>\n",
              "      <th>dk_amnt(k)_bin_dq_cnt_mean_diff</th>\n",
              "      <th>dk_amnt(k)_bin_dq_cnt_median_diff</th>\n",
              "      <th>dk_amnt(k)_bin_dq_cnt_max_diff</th>\n",
              "      <th>dk_amnt(k)_bin_dq_cnt_min_diff</th>\n",
              "    </tr>\n",
              "  </thead>\n",
              "  <tbody>\n",
              "    <tr>\n",
              "      <th>0</th>\n",
              "      <td>0</td>\n",
              "      <td>742</td>\n",
              "      <td>3</td>\n",
              "      <td>1</td>\n",
              "      <td>1</td>\n",
              "      <td>1</td>\n",
              "      <td>1</td>\n",
              "      <td>1</td>\n",
              "      <td>3</td>\n",
              "      <td>2</td>\n",
              "      <td>6</td>\n",
              "      <td>2</td>\n",
              "      <td>1</td>\n",
              "      <td>4</td>\n",
              "      <td>16</td>\n",
              "      <td>2</td>\n",
              "      <td>1</td>\n",
              "      <td>train</td>\n",
              "      <td>3</td>\n",
              "      <td>2.0</td>\n",
              "      <td>3</td>\n",
              "      <td>8.0</td>\n",
              "      <td>8.000000</td>\n",
              "      <td>8.00</td>\n",
              "      <td>18</td>\n",
              "      <td>43.570731</td>\n",
              "      <td>23.0</td>\n",
              "      <td>-108</td>\n",
              "      <td>442</td>\n",
              "      <td>0.030271</td>\n",
              "      <td>0.0</td>\n",
              "      <td>-4</td>\n",
              "      <td>1</td>\n",
              "      <td>3.759862</td>\n",
              "      <td>4.0</td>\n",
              "      <td>0</td>\n",
              "      <td>5</td>\n",
              "      <td>-0.380050</td>\n",
              "      <td>0.0</td>\n",
              "      <td>-5</td>\n",
              "      <td>1</td>\n",
              "      <td>-33.583244</td>\n",
              "      <td>-34.0</td>\n",
              "      <td>-83</td>\n",
              "      <td>16</td>\n",
              "      <td>-1.007985</td>\n",
              "      <td>-1.0</td>\n",
              "      <td>-3</td>\n",
              "      <td>1</td>\n",
              "      <td>-0.722917</td>\n",
              "      <td>0.0</td>\n",
              "      <td>-4</td>\n",
              "      <td>0</td>\n",
              "      <td>35.023184</td>\n",
              "      <td>19.0</td>\n",
              "      <td>-108</td>\n",
              "      <td>441</td>\n",
              "      <td>0.101842</td>\n",
              "      <td>0.0</td>\n",
              "      <td>-4</td>\n",
              "      <td>1</td>\n",
              "      <td>3.868557</td>\n",
              "      <td>4.0</td>\n",
              "      <td>0</td>\n",
              "      <td>5</td>\n",
              "      <td>-0.399710</td>\n",
              "      <td>0.0</td>\n",
              "      <td>-5</td>\n",
              "      <td>1</td>\n",
              "      <td>-33.305734</td>\n",
              "      <td>-34.0</td>\n",
              "      <td>-83</td>\n",
              "      <td>16</td>\n",
              "      <td>-0.999379</td>\n",
              "      <td>-1.0</td>\n",
              "      <td>-3</td>\n",
              "      <td>1</td>\n",
              "      <td>-0.740426</td>\n",
              "      <td>0.0</td>\n",
              "      <td>-4</td>\n",
              "      <td>0</td>\n",
              "      <td>34.187000</td>\n",
              "      <td>16.0</td>\n",
              "      <td>-108</td>\n",
              "      <td>442</td>\n",
              "      <td>0.080890</td>\n",
              "      <td>0.0</td>\n",
              "      <td>-4</td>\n",
              "      <td>1</td>\n",
              "      <td>3.818126</td>\n",
              "      <td>4.0</td>\n",
              "      <td>0</td>\n",
              "      <td>5</td>\n",
              "      <td>-0.381587</td>\n",
              "      <td>0.0</td>\n",
              "      <td>-5</td>\n",
              "      <td>1</td>\n",
              "      <td>-34.036908</td>\n",
              "      <td>-34.0</td>\n",
              "      <td>-83</td>\n",
              "      <td>16</td>\n",
              "      <td>-1.002973</td>\n",
              "      <td>-1.0</td>\n",
              "      <td>-3</td>\n",
              "      <td>1</td>\n",
              "      <td>-0.768300</td>\n",
              "      <td>0.0</td>\n",
              "      <td>-4</td>\n",
              "      <td>0</td>\n",
              "      <td>38.626450</td>\n",
              "      <td>19.0</td>\n",
              "      <td>-108</td>\n",
              "      <td>442</td>\n",
              "      <td>0.059905</td>\n",
              "      <td>0.0</td>\n",
              "      <td>-4</td>\n",
              "      <td>1</td>\n",
              "      <td>3.809520</td>\n",
              "      <td>4.0</td>\n",
              "      <td>0</td>\n",
              "      <td>5</td>\n",
              "      <td>-0.372291</td>\n",
              "      <td>0.0</td>\n",
              "      <td>-5</td>\n",
              "      <td>1</td>\n",
              "      <td>-33.221306</td>\n",
              "      <td>-33.0</td>\n",
              "      <td>-83</td>\n",
              "      <td>16</td>\n",
              "      <td>-0.989375</td>\n",
              "      <td>-1.0</td>\n",
              "      <td>-3</td>\n",
              "      <td>1</td>\n",
              "      <td>-0.746190</td>\n",
              "      <td>0.0</td>\n",
              "      <td>-4</td>\n",
              "      <td>0</td>\n",
              "      <td>37.164900</td>\n",
              "      <td>18.0</td>\n",
              "      <td>-108</td>\n",
              "      <td>442</td>\n",
              "      <td>0.076283</td>\n",
              "      <td>0.0</td>\n",
              "      <td>-4</td>\n",
              "      <td>1</td>\n",
              "      <td>3.816227</td>\n",
              "      <td>4.0</td>\n",
              "      <td>0</td>\n",
              "      <td>5</td>\n",
              "      <td>-0.402120</td>\n",
              "      <td>0.0</td>\n",
              "      <td>-5</td>\n",
              "      <td>1</td>\n",
              "      <td>-33.635328</td>\n",
              "      <td>-33.0</td>\n",
              "      <td>-83</td>\n",
              "      <td>16</td>\n",
              "      <td>-1.001684</td>\n",
              "      <td>-1.0</td>\n",
              "      <td>-3</td>\n",
              "      <td>1</td>\n",
              "      <td>-0.752724</td>\n",
              "      <td>0.0</td>\n",
              "      <td>-4</td>\n",
              "      <td>0</td>\n",
              "      <td>4</td>\n",
              "      <td>-45.622483</td>\n",
              "      <td>-42.0</td>\n",
              "      <td>-108</td>\n",
              "      <td>1</td>\n",
              "      <td>0.831652</td>\n",
              "      <td>1.0</td>\n",
              "      <td>-2</td>\n",
              "      <td>2</td>\n",
              "      <td>-4.589739</td>\n",
              "      <td>-5.0</td>\n",
              "      <td>-10</td>\n",
              "      <td>1</td>\n",
              "      <td>-2.542509</td>\n",
              "      <td>-2.0</td>\n",
              "      <td>-7</td>\n",
              "      <td>0</td>\n",
              "      <td>-2.443907</td>\n",
              "      <td>-2.0</td>\n",
              "      <td>-7</td>\n",
              "      <td>2</td>\n",
              "      <td>0.099389</td>\n",
              "      <td>0.0</td>\n",
              "      <td>-4</td>\n",
              "      <td>1</td>\n",
              "      <td>3.830772</td>\n",
              "      <td>4.0</td>\n",
              "      <td>0</td>\n",
              "      <td>5</td>\n",
              "      <td>-0.408988</td>\n",
              "      <td>0.0</td>\n",
              "      <td>-5</td>\n",
              "      <td>1</td>\n",
              "      <td>0.992595</td>\n",
              "      <td>1.0</td>\n",
              "      <td>-2</td>\n",
              "      <td>4</td>\n",
              "      <td>-33.400518</td>\n",
              "      <td>-33.0</td>\n",
              "      <td>-83</td>\n",
              "      <td>16</td>\n",
              "      <td>-0.995534</td>\n",
              "      <td>-1.0</td>\n",
              "      <td>-3</td>\n",
              "      <td>1</td>\n",
              "      <td>-0.754640</td>\n",
              "      <td>0.0</td>\n",
              "      <td>-4</td>\n",
              "      <td>0</td>\n",
              "      <td>1</td>\n",
              "      <td>37.022558</td>\n",
              "      <td>19.0</td>\n",
              "      <td>-108</td>\n",
              "      <td>441</td>\n",
              "      <td>0.859684</td>\n",
              "      <td>1.0</td>\n",
              "      <td>-2</td>\n",
              "      <td>2</td>\n",
              "      <td>-4.594356</td>\n",
              "      <td>-5.0</td>\n",
              "      <td>-10</td>\n",
              "      <td>1</td>\n",
              "      <td>-2.633111</td>\n",
              "      <td>-2.0</td>\n",
              "      <td>-7</td>\n",
              "      <td>0</td>\n",
              "      <td>-2.500646</td>\n",
              "      <td>-3.0</td>\n",
              "      <td>-7</td>\n",
              "      <td>2</td>\n",
              "      <td>0.074431</td>\n",
              "      <td>0.0</td>\n",
              "      <td>-4</td>\n",
              "      <td>1</td>\n",
              "      <td>3.811786</td>\n",
              "      <td>4.0</td>\n",
              "      <td>0</td>\n",
              "      <td>5</td>\n",
              "      <td>-0.365100</td>\n",
              "      <td>0.0</td>\n",
              "      <td>-5</td>\n",
              "      <td>1</td>\n",
              "      <td>0.985690</td>\n",
              "      <td>1.0</td>\n",
              "      <td>-2</td>\n",
              "      <td>4</td>\n",
              "      <td>1.487827</td>\n",
              "      <td>2.0</td>\n",
              "      <td>-3</td>\n",
              "      <td>6</td>\n",
              "      <td>-0.986982</td>\n",
              "      <td>-1.0</td>\n",
              "      <td>-3</td>\n",
              "      <td>1</td>\n",
              "      <td>-0.762794</td>\n",
              "      <td>0.0</td>\n",
              "      <td>-4</td>\n",
              "      <td>0</td>\n",
              "    </tr>\n",
              "    <tr>\n",
              "      <th>1</th>\n",
              "      <td>0</td>\n",
              "      <td>628</td>\n",
              "      <td>3</td>\n",
              "      <td>1</td>\n",
              "      <td>1</td>\n",
              "      <td>1</td>\n",
              "      <td>3</td>\n",
              "      <td>4</td>\n",
              "      <td>9</td>\n",
              "      <td>1</td>\n",
              "      <td>1</td>\n",
              "      <td>1</td>\n",
              "      <td>1</td>\n",
              "      <td>3</td>\n",
              "      <td>66</td>\n",
              "      <td>2</td>\n",
              "      <td>1</td>\n",
              "      <td>train</td>\n",
              "      <td>3</td>\n",
              "      <td>1.0</td>\n",
              "      <td>2</td>\n",
              "      <td>66.0</td>\n",
              "      <td>66.000000</td>\n",
              "      <td>33.00</td>\n",
              "      <td>10</td>\n",
              "      <td>-78.193486</td>\n",
              "      <td>-96.0</td>\n",
              "      <td>-222</td>\n",
              "      <td>327</td>\n",
              "      <td>-0.909442</td>\n",
              "      <td>-1.0</td>\n",
              "      <td>-5</td>\n",
              "      <td>0</td>\n",
              "      <td>-1.185996</td>\n",
              "      <td>-1.0</td>\n",
              "      <td>-5</td>\n",
              "      <td>0</td>\n",
              "      <td>-1.384816</td>\n",
              "      <td>-1.0</td>\n",
              "      <td>-6</td>\n",
              "      <td>0</td>\n",
              "      <td>16.544144</td>\n",
              "      <td>16.0</td>\n",
              "      <td>-33</td>\n",
              "      <td>66</td>\n",
              "      <td>-0.989333</td>\n",
              "      <td>-1.0</td>\n",
              "      <td>-3</td>\n",
              "      <td>1</td>\n",
              "      <td>-0.734340</td>\n",
              "      <td>0.0</td>\n",
              "      <td>-4</td>\n",
              "      <td>0</td>\n",
              "      <td>-76.348905</td>\n",
              "      <td>-96.0</td>\n",
              "      <td>-222</td>\n",
              "      <td>328</td>\n",
              "      <td>-0.915273</td>\n",
              "      <td>-1.0</td>\n",
              "      <td>-5</td>\n",
              "      <td>0</td>\n",
              "      <td>-1.176213</td>\n",
              "      <td>-1.0</td>\n",
              "      <td>-5</td>\n",
              "      <td>0</td>\n",
              "      <td>-1.428895</td>\n",
              "      <td>-1.0</td>\n",
              "      <td>-6</td>\n",
              "      <td>0</td>\n",
              "      <td>16.656074</td>\n",
              "      <td>17.0</td>\n",
              "      <td>-33</td>\n",
              "      <td>66</td>\n",
              "      <td>-1.018581</td>\n",
              "      <td>-1.0</td>\n",
              "      <td>-3</td>\n",
              "      <td>1</td>\n",
              "      <td>-0.748897</td>\n",
              "      <td>0.0</td>\n",
              "      <td>-4</td>\n",
              "      <td>0</td>\n",
              "      <td>-70.902080</td>\n",
              "      <td>-90.0</td>\n",
              "      <td>-222</td>\n",
              "      <td>328</td>\n",
              "      <td>-0.966693</td>\n",
              "      <td>-1.0</td>\n",
              "      <td>-5</td>\n",
              "      <td>0</td>\n",
              "      <td>-1.228446</td>\n",
              "      <td>-1.0</td>\n",
              "      <td>-5</td>\n",
              "      <td>0</td>\n",
              "      <td>-1.381476</td>\n",
              "      <td>-1.0</td>\n",
              "      <td>-6</td>\n",
              "      <td>0</td>\n",
              "      <td>16.283357</td>\n",
              "      <td>16.0</td>\n",
              "      <td>-33</td>\n",
              "      <td>66</td>\n",
              "      <td>-0.996999</td>\n",
              "      <td>-1.0</td>\n",
              "      <td>-3</td>\n",
              "      <td>1</td>\n",
              "      <td>-0.722745</td>\n",
              "      <td>0.0</td>\n",
              "      <td>-4</td>\n",
              "      <td>0</td>\n",
              "      <td>-75.101184</td>\n",
              "      <td>-94.0</td>\n",
              "      <td>-222</td>\n",
              "      <td>328</td>\n",
              "      <td>-0.930769</td>\n",
              "      <td>-1.0</td>\n",
              "      <td>-5</td>\n",
              "      <td>0</td>\n",
              "      <td>-1.197744</td>\n",
              "      <td>-1.0</td>\n",
              "      <td>-5</td>\n",
              "      <td>0</td>\n",
              "      <td>-1.390933</td>\n",
              "      <td>-1.0</td>\n",
              "      <td>-6</td>\n",
              "      <td>0</td>\n",
              "      <td>16.771144</td>\n",
              "      <td>17.0</td>\n",
              "      <td>-33</td>\n",
              "      <td>66</td>\n",
              "      <td>-1.012963</td>\n",
              "      <td>-1.0</td>\n",
              "      <td>-3</td>\n",
              "      <td>1</td>\n",
              "      <td>-0.754467</td>\n",
              "      <td>0.0</td>\n",
              "      <td>-4</td>\n",
              "      <td>0</td>\n",
              "      <td>-76.835100</td>\n",
              "      <td>-96.0</td>\n",
              "      <td>-222</td>\n",
              "      <td>328</td>\n",
              "      <td>-0.923717</td>\n",
              "      <td>-1.0</td>\n",
              "      <td>-5</td>\n",
              "      <td>0</td>\n",
              "      <td>-1.183773</td>\n",
              "      <td>-1.0</td>\n",
              "      <td>-5</td>\n",
              "      <td>0</td>\n",
              "      <td>-1.402120</td>\n",
              "      <td>-1.0</td>\n",
              "      <td>-6</td>\n",
              "      <td>0</td>\n",
              "      <td>16.364672</td>\n",
              "      <td>17.0</td>\n",
              "      <td>-33</td>\n",
              "      <td>66</td>\n",
              "      <td>-1.001684</td>\n",
              "      <td>-1.0</td>\n",
              "      <td>-3</td>\n",
              "      <td>1</td>\n",
              "      <td>-0.752724</td>\n",
              "      <td>0.0</td>\n",
              "      <td>-4</td>\n",
              "      <td>0</td>\n",
              "      <td>2</td>\n",
              "      <td>43.853882</td>\n",
              "      <td>41.0</td>\n",
              "      <td>-2</td>\n",
              "      <td>107</td>\n",
              "      <td>0.882240</td>\n",
              "      <td>1.0</td>\n",
              "      <td>-2</td>\n",
              "      <td>2</td>\n",
              "      <td>-2.514563</td>\n",
              "      <td>-3.0</td>\n",
              "      <td>-8</td>\n",
              "      <td>3</td>\n",
              "      <td>0.277729</td>\n",
              "      <td>1.0</td>\n",
              "      <td>-4</td>\n",
              "      <td>3</td>\n",
              "      <td>3.370908</td>\n",
              "      <td>3.0</td>\n",
              "      <td>-1</td>\n",
              "      <td>8</td>\n",
              "      <td>-0.980072</td>\n",
              "      <td>-1.0</td>\n",
              "      <td>-5</td>\n",
              "      <td>0</td>\n",
              "      <td>-1.244662</td>\n",
              "      <td>-1.0</td>\n",
              "      <td>-5</td>\n",
              "      <td>0</td>\n",
              "      <td>-1.351692</td>\n",
              "      <td>-1.0</td>\n",
              "      <td>-6</td>\n",
              "      <td>0</td>\n",
              "      <td>-0.006898</td>\n",
              "      <td>0.0</td>\n",
              "      <td>-3</td>\n",
              "      <td>3</td>\n",
              "      <td>16.441695</td>\n",
              "      <td>16.0</td>\n",
              "      <td>-33</td>\n",
              "      <td>66</td>\n",
              "      <td>-0.991076</td>\n",
              "      <td>-1.0</td>\n",
              "      <td>-3</td>\n",
              "      <td>1</td>\n",
              "      <td>-0.735848</td>\n",
              "      <td>0.0</td>\n",
              "      <td>-4</td>\n",
              "      <td>0</td>\n",
              "      <td>6</td>\n",
              "      <td>-75.274569</td>\n",
              "      <td>-96.0</td>\n",
              "      <td>-222</td>\n",
              "      <td>328</td>\n",
              "      <td>0.837510</td>\n",
              "      <td>1.0</td>\n",
              "      <td>-2</td>\n",
              "      <td>2</td>\n",
              "      <td>-2.555991</td>\n",
              "      <td>-3.0</td>\n",
              "      <td>-8</td>\n",
              "      <td>3</td>\n",
              "      <td>0.388410</td>\n",
              "      <td>1.0</td>\n",
              "      <td>-4</td>\n",
              "      <td>3</td>\n",
              "      <td>3.480912</td>\n",
              "      <td>3.0</td>\n",
              "      <td>-1</td>\n",
              "      <td>8</td>\n",
              "      <td>-0.938234</td>\n",
              "      <td>-1.0</td>\n",
              "      <td>-5</td>\n",
              "      <td>0</td>\n",
              "      <td>-1.214761</td>\n",
              "      <td>-1.0</td>\n",
              "      <td>-5</td>\n",
              "      <td>0</td>\n",
              "      <td>-1.384495</td>\n",
              "      <td>-1.0</td>\n",
              "      <td>-6</td>\n",
              "      <td>0</td>\n",
              "      <td>-0.030638</td>\n",
              "      <td>0.0</td>\n",
              "      <td>-3</td>\n",
              "      <td>3</td>\n",
              "      <td>1.499315</td>\n",
              "      <td>1.0</td>\n",
              "      <td>-3</td>\n",
              "      <td>6</td>\n",
              "      <td>-0.999119</td>\n",
              "      <td>-1.0</td>\n",
              "      <td>-3</td>\n",
              "      <td>1</td>\n",
              "      <td>-0.729738</td>\n",
              "      <td>0.0</td>\n",
              "      <td>-4</td>\n",
              "      <td>0</td>\n",
              "    </tr>\n",
              "    <tr>\n",
              "      <th>2</th>\n",
              "      <td>0</td>\n",
              "      <td>763</td>\n",
              "      <td>4</td>\n",
              "      <td>1</td>\n",
              "      <td>0</td>\n",
              "      <td>1</td>\n",
              "      <td>3</td>\n",
              "      <td>3</td>\n",
              "      <td>3</td>\n",
              "      <td>2</td>\n",
              "      <td>2</td>\n",
              "      <td>1</td>\n",
              "      <td>0</td>\n",
              "      <td>2</td>\n",
              "      <td>21</td>\n",
              "      <td>4</td>\n",
              "      <td>2</td>\n",
              "      <td>test</td>\n",
              "      <td>1</td>\n",
              "      <td>1.0</td>\n",
              "      <td>4</td>\n",
              "      <td>10.5</td>\n",
              "      <td>21.000000</td>\n",
              "      <td>5.25</td>\n",
              "      <td>9</td>\n",
              "      <td>56.806514</td>\n",
              "      <td>39.0</td>\n",
              "      <td>-87</td>\n",
              "      <td>462</td>\n",
              "      <td>0.090558</td>\n",
              "      <td>0.0</td>\n",
              "      <td>-4</td>\n",
              "      <td>1</td>\n",
              "      <td>-0.185996</td>\n",
              "      <td>0.0</td>\n",
              "      <td>-4</td>\n",
              "      <td>1</td>\n",
              "      <td>-1.384816</td>\n",
              "      <td>-1.0</td>\n",
              "      <td>-6</td>\n",
              "      <td>0</td>\n",
              "      <td>-28.455856</td>\n",
              "      <td>-29.0</td>\n",
              "      <td>-78</td>\n",
              "      <td>21</td>\n",
              "      <td>1.010667</td>\n",
              "      <td>1.0</td>\n",
              "      <td>-1</td>\n",
              "      <td>3</td>\n",
              "      <td>0.265660</td>\n",
              "      <td>1.0</td>\n",
              "      <td>-3</td>\n",
              "      <td>1</td>\n",
              "      <td>55.667225</td>\n",
              "      <td>37.0</td>\n",
              "      <td>-87</td>\n",
              "      <td>462</td>\n",
              "      <td>0.083963</td>\n",
              "      <td>0.0</td>\n",
              "      <td>-4</td>\n",
              "      <td>1</td>\n",
              "      <td>-0.168987</td>\n",
              "      <td>0.0</td>\n",
              "      <td>-4</td>\n",
              "      <td>1</td>\n",
              "      <td>-1.387701</td>\n",
              "      <td>-1.0</td>\n",
              "      <td>-6</td>\n",
              "      <td>0</td>\n",
              "      <td>-28.295975</td>\n",
              "      <td>-28.0</td>\n",
              "      <td>-78</td>\n",
              "      <td>21</td>\n",
              "      <td>1.008653</td>\n",
              "      <td>1.0</td>\n",
              "      <td>-1</td>\n",
              "      <td>3</td>\n",
              "      <td>0.271247</td>\n",
              "      <td>1.0</td>\n",
              "      <td>-3</td>\n",
              "      <td>1</td>\n",
              "      <td>55.187000</td>\n",
              "      <td>37.0</td>\n",
              "      <td>-87</td>\n",
              "      <td>463</td>\n",
              "      <td>0.080890</td>\n",
              "      <td>0.0</td>\n",
              "      <td>-4</td>\n",
              "      <td>1</td>\n",
              "      <td>-0.181874</td>\n",
              "      <td>0.0</td>\n",
              "      <td>-4</td>\n",
              "      <td>1</td>\n",
              "      <td>-1.381587</td>\n",
              "      <td>-1.0</td>\n",
              "      <td>-6</td>\n",
              "      <td>0</td>\n",
              "      <td>-29.036908</td>\n",
              "      <td>-29.0</td>\n",
              "      <td>-78</td>\n",
              "      <td>21</td>\n",
              "      <td>0.997027</td>\n",
              "      <td>1.0</td>\n",
              "      <td>-1</td>\n",
              "      <td>3</td>\n",
              "      <td>0.231700</td>\n",
              "      <td>1.0</td>\n",
              "      <td>-3</td>\n",
              "      <td>1</td>\n",
              "      <td>60.968772</td>\n",
              "      <td>43.0</td>\n",
              "      <td>-87</td>\n",
              "      <td>463</td>\n",
              "      <td>0.051242</td>\n",
              "      <td>0.0</td>\n",
              "      <td>-4</td>\n",
              "      <td>1</td>\n",
              "      <td>-0.201065</td>\n",
              "      <td>0.0</td>\n",
              "      <td>-4</td>\n",
              "      <td>1</td>\n",
              "      <td>-1.408091</td>\n",
              "      <td>-1.0</td>\n",
              "      <td>-6</td>\n",
              "      <td>0</td>\n",
              "      <td>-28.593400</td>\n",
              "      <td>-29.0</td>\n",
              "      <td>-78</td>\n",
              "      <td>21</td>\n",
              "      <td>0.999929</td>\n",
              "      <td>1.0</td>\n",
              "      <td>-1</td>\n",
              "      <td>3</td>\n",
              "      <td>0.275515</td>\n",
              "      <td>1.0</td>\n",
              "      <td>-3</td>\n",
              "      <td>1</td>\n",
              "      <td>55.401005</td>\n",
              "      <td>39.0</td>\n",
              "      <td>-87</td>\n",
              "      <td>462</td>\n",
              "      <td>0.111859</td>\n",
              "      <td>0.0</td>\n",
              "      <td>-4</td>\n",
              "      <td>1</td>\n",
              "      <td>-0.156583</td>\n",
              "      <td>0.0</td>\n",
              "      <td>-4</td>\n",
              "      <td>1</td>\n",
              "      <td>-1.376683</td>\n",
              "      <td>-1.0</td>\n",
              "      <td>-6</td>\n",
              "      <td>0</td>\n",
              "      <td>-28.558090</td>\n",
              "      <td>-29.0</td>\n",
              "      <td>-78</td>\n",
              "      <td>21</td>\n",
              "      <td>0.990050</td>\n",
              "      <td>1.0</td>\n",
              "      <td>-1</td>\n",
              "      <td>3</td>\n",
              "      <td>0.247236</td>\n",
              "      <td>1.0</td>\n",
              "      <td>-3</td>\n",
              "      <td>1</td>\n",
              "      <td>4</td>\n",
              "      <td>-24.622483</td>\n",
              "      <td>-21.0</td>\n",
              "      <td>-87</td>\n",
              "      <td>22</td>\n",
              "      <td>1.831652</td>\n",
              "      <td>2.0</td>\n",
              "      <td>-1</td>\n",
              "      <td>3</td>\n",
              "      <td>-2.589739</td>\n",
              "      <td>-3.0</td>\n",
              "      <td>-8</td>\n",
              "      <td>3</td>\n",
              "      <td>-0.542509</td>\n",
              "      <td>0.0</td>\n",
              "      <td>-5</td>\n",
              "      <td>2</td>\n",
              "      <td>-2.443907</td>\n",
              "      <td>-2.0</td>\n",
              "      <td>-7</td>\n",
              "      <td>2</td>\n",
              "      <td>0.099389</td>\n",
              "      <td>0.0</td>\n",
              "      <td>-4</td>\n",
              "      <td>1</td>\n",
              "      <td>-0.169228</td>\n",
              "      <td>0.0</td>\n",
              "      <td>-4</td>\n",
              "      <td>1</td>\n",
              "      <td>-1.408988</td>\n",
              "      <td>-1.0</td>\n",
              "      <td>-6</td>\n",
              "      <td>0</td>\n",
              "      <td>-1.007405</td>\n",
              "      <td>-1.0</td>\n",
              "      <td>-4</td>\n",
              "      <td>2</td>\n",
              "      <td>-28.400518</td>\n",
              "      <td>-28.0</td>\n",
              "      <td>-78</td>\n",
              "      <td>21</td>\n",
              "      <td>1.004466</td>\n",
              "      <td>1.0</td>\n",
              "      <td>-1</td>\n",
              "      <td>3</td>\n",
              "      <td>0.245360</td>\n",
              "      <td>1.0</td>\n",
              "      <td>-3</td>\n",
              "      <td>1</td>\n",
              "      <td>2</td>\n",
              "      <td>59.164407</td>\n",
              "      <td>39.0</td>\n",
              "      <td>-87</td>\n",
              "      <td>462</td>\n",
              "      <td>1.857627</td>\n",
              "      <td>2.0</td>\n",
              "      <td>-1</td>\n",
              "      <td>3</td>\n",
              "      <td>-2.585045</td>\n",
              "      <td>-3.0</td>\n",
              "      <td>-8</td>\n",
              "      <td>3</td>\n",
              "      <td>-0.612463</td>\n",
              "      <td>0.0</td>\n",
              "      <td>-5</td>\n",
              "      <td>2</td>\n",
              "      <td>-2.489133</td>\n",
              "      <td>-3.0</td>\n",
              "      <td>-7</td>\n",
              "      <td>2</td>\n",
              "      <td>0.062114</td>\n",
              "      <td>0.0</td>\n",
              "      <td>-4</td>\n",
              "      <td>1</td>\n",
              "      <td>-0.174377</td>\n",
              "      <td>0.0</td>\n",
              "      <td>-4</td>\n",
              "      <td>1</td>\n",
              "      <td>-1.404287</td>\n",
              "      <td>-1.0</td>\n",
              "      <td>-6</td>\n",
              "      <td>0</td>\n",
              "      <td>-1.012861</td>\n",
              "      <td>-1.0</td>\n",
              "      <td>-4</td>\n",
              "      <td>2</td>\n",
              "      <td>-3.486142</td>\n",
              "      <td>-3.0</td>\n",
              "      <td>-8</td>\n",
              "      <td>1</td>\n",
              "      <td>0.999103</td>\n",
              "      <td>1.0</td>\n",
              "      <td>-1</td>\n",
              "      <td>3</td>\n",
              "      <td>0.276570</td>\n",
              "      <td>1.0</td>\n",
              "      <td>-3</td>\n",
              "      <td>1</td>\n",
              "    </tr>\n",
              "    <tr>\n",
              "      <th>3</th>\n",
              "      <td>0</td>\n",
              "      <td>680</td>\n",
              "      <td>2</td>\n",
              "      <td>1</td>\n",
              "      <td>1</td>\n",
              "      <td>1</td>\n",
              "      <td>11</td>\n",
              "      <td>3</td>\n",
              "      <td>3</td>\n",
              "      <td>1</td>\n",
              "      <td>1</td>\n",
              "      <td>3</td>\n",
              "      <td>0</td>\n",
              "      <td>4</td>\n",
              "      <td>71</td>\n",
              "      <td>1</td>\n",
              "      <td>1</td>\n",
              "      <td>train</td>\n",
              "      <td>3</td>\n",
              "      <td>1.0</td>\n",
              "      <td>2</td>\n",
              "      <td>71.0</td>\n",
              "      <td>23.666667</td>\n",
              "      <td>71.00</td>\n",
              "      <td>25</td>\n",
              "      <td>-26.421359</td>\n",
              "      <td>-46.0</td>\n",
              "      <td>-170</td>\n",
              "      <td>378</td>\n",
              "      <td>-0.919400</td>\n",
              "      <td>-1.0</td>\n",
              "      <td>-5</td>\n",
              "      <td>0</td>\n",
              "      <td>-1.197022</td>\n",
              "      <td>-1.0</td>\n",
              "      <td>-5</td>\n",
              "      <td>0</td>\n",
              "      <td>0.610097</td>\n",
              "      <td>1.0</td>\n",
              "      <td>-4</td>\n",
              "      <td>2</td>\n",
              "      <td>21.873055</td>\n",
              "      <td>22.0</td>\n",
              "      <td>-28</td>\n",
              "      <td>71</td>\n",
              "      <td>-1.996530</td>\n",
              "      <td>-2.0</td>\n",
              "      <td>-4</td>\n",
              "      <td>0</td>\n",
              "      <td>-0.749020</td>\n",
              "      <td>0.0</td>\n",
              "      <td>-4</td>\n",
              "      <td>0</td>\n",
              "      <td>-27.332775</td>\n",
              "      <td>-46.0</td>\n",
              "      <td>-170</td>\n",
              "      <td>379</td>\n",
              "      <td>-0.916037</td>\n",
              "      <td>-1.0</td>\n",
              "      <td>-5</td>\n",
              "      <td>0</td>\n",
              "      <td>-1.168987</td>\n",
              "      <td>-1.0</td>\n",
              "      <td>-5</td>\n",
              "      <td>0</td>\n",
              "      <td>0.612299</td>\n",
              "      <td>1.0</td>\n",
              "      <td>-4</td>\n",
              "      <td>2</td>\n",
              "      <td>21.704025</td>\n",
              "      <td>22.0</td>\n",
              "      <td>-28</td>\n",
              "      <td>71</td>\n",
              "      <td>-1.991347</td>\n",
              "      <td>-2.0</td>\n",
              "      <td>-4</td>\n",
              "      <td>0</td>\n",
              "      <td>-0.728753</td>\n",
              "      <td>0.0</td>\n",
              "      <td>-4</td>\n",
              "      <td>0</td>\n",
              "      <td>-27.813000</td>\n",
              "      <td>-46.0</td>\n",
              "      <td>-170</td>\n",
              "      <td>380</td>\n",
              "      <td>-0.919110</td>\n",
              "      <td>-1.0</td>\n",
              "      <td>-5</td>\n",
              "      <td>0</td>\n",
              "      <td>-1.181874</td>\n",
              "      <td>-1.0</td>\n",
              "      <td>-5</td>\n",
              "      <td>0</td>\n",
              "      <td>0.618413</td>\n",
              "      <td>1.0</td>\n",
              "      <td>-4</td>\n",
              "      <td>2</td>\n",
              "      <td>20.963092</td>\n",
              "      <td>21.0</td>\n",
              "      <td>-28</td>\n",
              "      <td>71</td>\n",
              "      <td>-2.002973</td>\n",
              "      <td>-2.0</td>\n",
              "      <td>-4</td>\n",
              "      <td>0</td>\n",
              "      <td>-0.768300</td>\n",
              "      <td>0.0</td>\n",
              "      <td>-4</td>\n",
              "      <td>0</td>\n",
              "      <td>-23.373550</td>\n",
              "      <td>-43.0</td>\n",
              "      <td>-170</td>\n",
              "      <td>380</td>\n",
              "      <td>-0.940095</td>\n",
              "      <td>-1.0</td>\n",
              "      <td>-5</td>\n",
              "      <td>0</td>\n",
              "      <td>-1.190480</td>\n",
              "      <td>-1.0</td>\n",
              "      <td>-5</td>\n",
              "      <td>0</td>\n",
              "      <td>0.627709</td>\n",
              "      <td>1.0</td>\n",
              "      <td>-4</td>\n",
              "      <td>2</td>\n",
              "      <td>21.778694</td>\n",
              "      <td>22.0</td>\n",
              "      <td>-28</td>\n",
              "      <td>71</td>\n",
              "      <td>-1.989375</td>\n",
              "      <td>-2.0</td>\n",
              "      <td>-4</td>\n",
              "      <td>0</td>\n",
              "      <td>-0.746190</td>\n",
              "      <td>0.0</td>\n",
              "      <td>-4</td>\n",
              "      <td>0</td>\n",
              "      <td>-23.304079</td>\n",
              "      <td>-43.0</td>\n",
              "      <td>-170</td>\n",
              "      <td>380</td>\n",
              "      <td>-0.933593</td>\n",
              "      <td>-1.0</td>\n",
              "      <td>-5</td>\n",
              "      <td>0</td>\n",
              "      <td>-1.201070</td>\n",
              "      <td>-1.0</td>\n",
              "      <td>-5</td>\n",
              "      <td>0</td>\n",
              "      <td>0.618856</td>\n",
              "      <td>1.0</td>\n",
              "      <td>-4</td>\n",
              "      <td>2</td>\n",
              "      <td>21.563350</td>\n",
              "      <td>21.0</td>\n",
              "      <td>-28</td>\n",
              "      <td>71</td>\n",
              "      <td>-1.994490</td>\n",
              "      <td>-2.0</td>\n",
              "      <td>-4</td>\n",
              "      <td>0</td>\n",
              "      <td>-0.738114</td>\n",
              "      <td>0.0</td>\n",
              "      <td>-4</td>\n",
              "      <td>0</td>\n",
              "      <td>3</td>\n",
              "      <td>-9.914202</td>\n",
              "      <td>-12.0</td>\n",
              "      <td>-60</td>\n",
              "      <td>49</td>\n",
              "      <td>-0.158912</td>\n",
              "      <td>0.0</td>\n",
              "      <td>-3</td>\n",
              "      <td>1</td>\n",
              "      <td>5.418686</td>\n",
              "      <td>5.0</td>\n",
              "      <td>0</td>\n",
              "      <td>11</td>\n",
              "      <td>-0.565785</td>\n",
              "      <td>0.0</td>\n",
              "      <td>-5</td>\n",
              "      <td>2</td>\n",
              "      <td>-2.463443</td>\n",
              "      <td>-2.0</td>\n",
              "      <td>-7</td>\n",
              "      <td>2</td>\n",
              "      <td>-0.913650</td>\n",
              "      <td>-1.0</td>\n",
              "      <td>-5</td>\n",
              "      <td>0</td>\n",
              "      <td>-1.171567</td>\n",
              "      <td>-1.0</td>\n",
              "      <td>-5</td>\n",
              "      <td>0</td>\n",
              "      <td>0.599048</td>\n",
              "      <td>1.0</td>\n",
              "      <td>-4</td>\n",
              "      <td>2</td>\n",
              "      <td>0.988941</td>\n",
              "      <td>1.0</td>\n",
              "      <td>-2</td>\n",
              "      <td>4</td>\n",
              "      <td>21.679418</td>\n",
              "      <td>22.0</td>\n",
              "      <td>-28</td>\n",
              "      <td>71</td>\n",
              "      <td>-2.002264</td>\n",
              "      <td>-2.0</td>\n",
              "      <td>-4</td>\n",
              "      <td>0</td>\n",
              "      <td>-0.732679</td>\n",
              "      <td>0.0</td>\n",
              "      <td>-4</td>\n",
              "      <td>0</td>\n",
              "      <td>7</td>\n",
              "      <td>-23.850299</td>\n",
              "      <td>-44.0</td>\n",
              "      <td>-170</td>\n",
              "      <td>380</td>\n",
              "      <td>-0.154166</td>\n",
              "      <td>0.0</td>\n",
              "      <td>-3</td>\n",
              "      <td>1</td>\n",
              "      <td>5.460367</td>\n",
              "      <td>5.0</td>\n",
              "      <td>0</td>\n",
              "      <td>11</td>\n",
              "      <td>-0.588856</td>\n",
              "      <td>0.0</td>\n",
              "      <td>-5</td>\n",
              "      <td>2</td>\n",
              "      <td>-2.525931</td>\n",
              "      <td>-3.0</td>\n",
              "      <td>-7</td>\n",
              "      <td>2</td>\n",
              "      <td>-0.933015</td>\n",
              "      <td>-1.0</td>\n",
              "      <td>-5</td>\n",
              "      <td>0</td>\n",
              "      <td>-1.193951</td>\n",
              "      <td>-1.0</td>\n",
              "      <td>-5</td>\n",
              "      <td>0</td>\n",
              "      <td>0.605805</td>\n",
              "      <td>1.0</td>\n",
              "      <td>-4</td>\n",
              "      <td>2</td>\n",
              "      <td>1.003755</td>\n",
              "      <td>1.0</td>\n",
              "      <td>-2</td>\n",
              "      <td>4</td>\n",
              "      <td>-3.534862</td>\n",
              "      <td>-4.0</td>\n",
              "      <td>-8</td>\n",
              "      <td>1</td>\n",
              "      <td>-2.010048</td>\n",
              "      <td>-2.0</td>\n",
              "      <td>-4</td>\n",
              "      <td>0</td>\n",
              "      <td>-0.748706</td>\n",
              "      <td>0.0</td>\n",
              "      <td>-4</td>\n",
              "      <td>0</td>\n",
              "    </tr>\n",
              "    <tr>\n",
              "      <th>4</th>\n",
              "      <td>1</td>\n",
              "      <td>436</td>\n",
              "      <td>1</td>\n",
              "      <td>1</td>\n",
              "      <td>1</td>\n",
              "      <td>1</td>\n",
              "      <td>10</td>\n",
              "      <td>4</td>\n",
              "      <td>1</td>\n",
              "      <td>2</td>\n",
              "      <td>4</td>\n",
              "      <td>2</td>\n",
              "      <td>1</td>\n",
              "      <td>5</td>\n",
              "      <td>93</td>\n",
              "      <td>1</td>\n",
              "      <td>1</td>\n",
              "      <td>train</td>\n",
              "      <td>3</td>\n",
              "      <td>2.0</td>\n",
              "      <td>3</td>\n",
              "      <td>46.5</td>\n",
              "      <td>46.500000</td>\n",
              "      <td>93.00</td>\n",
              "      <td>19</td>\n",
              "      <td>-269.301717</td>\n",
              "      <td>-288.0</td>\n",
              "      <td>-414</td>\n",
              "      <td>135</td>\n",
              "      <td>0.100421</td>\n",
              "      <td>0.0</td>\n",
              "      <td>-4</td>\n",
              "      <td>1</td>\n",
              "      <td>1.827818</td>\n",
              "      <td>2.0</td>\n",
              "      <td>-2</td>\n",
              "      <td>3</td>\n",
              "      <td>-0.430115</td>\n",
              "      <td>0.0</td>\n",
              "      <td>-5</td>\n",
              "      <td>1</td>\n",
              "      <td>43.695212</td>\n",
              "      <td>44.0</td>\n",
              "      <td>-6</td>\n",
              "      <td>93</td>\n",
              "      <td>-1.988627</td>\n",
              "      <td>-2.0</td>\n",
              "      <td>-4</td>\n",
              "      <td>0</td>\n",
              "      <td>-0.745707</td>\n",
              "      <td>0.0</td>\n",
              "      <td>-4</td>\n",
              "      <td>0</td>\n",
              "      <td>-268.348905</td>\n",
              "      <td>-288.0</td>\n",
              "      <td>-414</td>\n",
              "      <td>136</td>\n",
              "      <td>0.084727</td>\n",
              "      <td>0.0</td>\n",
              "      <td>-4</td>\n",
              "      <td>1</td>\n",
              "      <td>1.823787</td>\n",
              "      <td>2.0</td>\n",
              "      <td>-2</td>\n",
              "      <td>3</td>\n",
              "      <td>-0.428895</td>\n",
              "      <td>0.0</td>\n",
              "      <td>-5</td>\n",
              "      <td>1</td>\n",
              "      <td>43.656074</td>\n",
              "      <td>44.0</td>\n",
              "      <td>-6</td>\n",
              "      <td>93</td>\n",
              "      <td>-2.018581</td>\n",
              "      <td>-2.0</td>\n",
              "      <td>-4</td>\n",
              "      <td>0</td>\n",
              "      <td>-0.748897</td>\n",
              "      <td>0.0</td>\n",
              "      <td>-4</td>\n",
              "      <td>0</td>\n",
              "      <td>-272.205453</td>\n",
              "      <td>-290.0</td>\n",
              "      <td>-414</td>\n",
              "      <td>135</td>\n",
              "      <td>0.102877</td>\n",
              "      <td>0.0</td>\n",
              "      <td>-4</td>\n",
              "      <td>1</td>\n",
              "      <td>1.831902</td>\n",
              "      <td>2.0</td>\n",
              "      <td>-2</td>\n",
              "      <td>3</td>\n",
              "      <td>-0.412505</td>\n",
              "      <td>0.0</td>\n",
              "      <td>-5</td>\n",
              "      <td>1</td>\n",
              "      <td>43.866360</td>\n",
              "      <td>44.0</td>\n",
              "      <td>-6</td>\n",
              "      <td>93</td>\n",
              "      <td>-1.980623</td>\n",
              "      <td>-2.0</td>\n",
              "      <td>-4</td>\n",
              "      <td>0</td>\n",
              "      <td>-0.745805</td>\n",
              "      <td>0.0</td>\n",
              "      <td>-4</td>\n",
              "      <td>0</td>\n",
              "      <td>-268.011758</td>\n",
              "      <td>-287.0</td>\n",
              "      <td>-414</td>\n",
              "      <td>136</td>\n",
              "      <td>0.061017</td>\n",
              "      <td>0.0</td>\n",
              "      <td>-4</td>\n",
              "      <td>1</td>\n",
              "      <td>1.800250</td>\n",
              "      <td>2.0</td>\n",
              "      <td>-2</td>\n",
              "      <td>3</td>\n",
              "      <td>-0.372713</td>\n",
              "      <td>0.0</td>\n",
              "      <td>-5</td>\n",
              "      <td>1</td>\n",
              "      <td>43.453002</td>\n",
              "      <td>43.0</td>\n",
              "      <td>-6</td>\n",
              "      <td>93</td>\n",
              "      <td>-1.986642</td>\n",
              "      <td>-2.0</td>\n",
              "      <td>-4</td>\n",
              "      <td>0</td>\n",
              "      <td>-0.724553</td>\n",
              "      <td>0.0</td>\n",
              "      <td>-4</td>\n",
              "      <td>0</td>\n",
              "      <td>-264.559620</td>\n",
              "      <td>-284.0</td>\n",
              "      <td>-414</td>\n",
              "      <td>136</td>\n",
              "      <td>0.043926</td>\n",
              "      <td>0.0</td>\n",
              "      <td>-4</td>\n",
              "      <td>1</td>\n",
              "      <td>1.793083</td>\n",
              "      <td>2.0</td>\n",
              "      <td>-2</td>\n",
              "      <td>3</td>\n",
              "      <td>-0.388763</td>\n",
              "      <td>0.0</td>\n",
              "      <td>-5</td>\n",
              "      <td>1</td>\n",
              "      <td>43.722537</td>\n",
              "      <td>44.0</td>\n",
              "      <td>-6</td>\n",
              "      <td>93</td>\n",
              "      <td>-1.998327</td>\n",
              "      <td>-2.0</td>\n",
              "      <td>-4</td>\n",
              "      <td>0</td>\n",
              "      <td>-0.744712</td>\n",
              "      <td>0.0</td>\n",
              "      <td>-4</td>\n",
              "      <td>0</td>\n",
              "      <td>1</td>\n",
              "      <td>-57.800764</td>\n",
              "      <td>-70.0</td>\n",
              "      <td>-84</td>\n",
              "      <td>25</td>\n",
              "      <td>-1.024991</td>\n",
              "      <td>-1.0</td>\n",
              "      <td>-4</td>\n",
              "      <td>0</td>\n",
              "      <td>4.596321</td>\n",
              "      <td>5.0</td>\n",
              "      <td>-1</td>\n",
              "      <td>10</td>\n",
              "      <td>-0.066991</td>\n",
              "      <td>0.0</td>\n",
              "      <td>-4</td>\n",
              "      <td>3</td>\n",
              "      <td>-4.864630</td>\n",
              "      <td>-5.0</td>\n",
              "      <td>-9</td>\n",
              "      <td>0</td>\n",
              "      <td>-0.194030</td>\n",
              "      <td>0.0</td>\n",
              "      <td>-4</td>\n",
              "      <td>1</td>\n",
              "      <td>1.631725</td>\n",
              "      <td>2.0</td>\n",
              "      <td>-2</td>\n",
              "      <td>3</td>\n",
              "      <td>-0.257202</td>\n",
              "      <td>1.0</td>\n",
              "      <td>-5</td>\n",
              "      <td>1</td>\n",
              "      <td>2.061784</td>\n",
              "      <td>2.0</td>\n",
              "      <td>-1</td>\n",
              "      <td>5</td>\n",
              "      <td>43.056925</td>\n",
              "      <td>43.0</td>\n",
              "      <td>-6</td>\n",
              "      <td>93</td>\n",
              "      <td>-2.037487</td>\n",
              "      <td>-2.0</td>\n",
              "      <td>-4</td>\n",
              "      <td>0</td>\n",
              "      <td>-0.765012</td>\n",
              "      <td>0.0</td>\n",
              "      <td>-4</td>\n",
              "      <td>0</td>\n",
              "      <td>9</td>\n",
              "      <td>-266.327249</td>\n",
              "      <td>-286.0</td>\n",
              "      <td>-414</td>\n",
              "      <td>136</td>\n",
              "      <td>-1.146826</td>\n",
              "      <td>-1.0</td>\n",
              "      <td>-4</td>\n",
              "      <td>0</td>\n",
              "      <td>4.411694</td>\n",
              "      <td>4.0</td>\n",
              "      <td>-1</td>\n",
              "      <td>10</td>\n",
              "      <td>0.394344</td>\n",
              "      <td>1.0</td>\n",
              "      <td>-4</td>\n",
              "      <td>3</td>\n",
              "      <td>-4.508073</td>\n",
              "      <td>-5.0</td>\n",
              "      <td>-9</td>\n",
              "      <td>0</td>\n",
              "      <td>0.051750</td>\n",
              "      <td>0.0</td>\n",
              "      <td>-4</td>\n",
              "      <td>1</td>\n",
              "      <td>1.805536</td>\n",
              "      <td>2.0</td>\n",
              "      <td>-2</td>\n",
              "      <td>3</td>\n",
              "      <td>-0.384114</td>\n",
              "      <td>0.0</td>\n",
              "      <td>-5</td>\n",
              "      <td>1</td>\n",
              "      <td>2.026978</td>\n",
              "      <td>2.0</td>\n",
              "      <td>-1</td>\n",
              "      <td>5</td>\n",
              "      <td>-1.481898</td>\n",
              "      <td>-1.0</td>\n",
              "      <td>-6</td>\n",
              "      <td>3</td>\n",
              "      <td>-1.983753</td>\n",
              "      <td>-2.0</td>\n",
              "      <td>-4</td>\n",
              "      <td>0</td>\n",
              "      <td>-0.723899</td>\n",
              "      <td>0.0</td>\n",
              "      <td>-4</td>\n",
              "      <td>0</td>\n",
              "    </tr>\n",
              "  </tbody>\n",
              "</table>\n",
              "</div>"
            ],
            "text/plain": [
              "   y  scr  diploma  home_ownership  car_ownership  location  constellation  \\\n",
              "0  0  742        3               1              1         1              1   \n",
              "1  0  628        3               1              1         1              3   \n",
              "2  0  763        4               1              0         1              3   \n",
              "3  0  680        2               1              1         1             11   \n",
              "4  1  436        1               1              1         1             10   \n",
              "\n",
              "   grade  index  dk_cnt  tot_amnt  income  gender  occupation  dk_amnt(k)  \\\n",
              "0      1      3       2         6       2       1           4          16   \n",
              "1      4      9       1         1       1       1           3          66   \n",
              "2      3      3       2         2       1       0           2          21   \n",
              "3      3      3       1         1       3       0           4          71   \n",
              "4      4      1       2         4       2       1           5          93   \n",
              "\n",
              "   emp_length  dq_cnt   type  home_car_ownership  dk_dq_cnt_ratio  \\\n",
              "0           2       1  train                   3              2.0   \n",
              "1           2       1  train                   3              1.0   \n",
              "2           4       2   test                   1              1.0   \n",
              "3           1       1  train                   3              1.0   \n",
              "4           1       1  train                   3              2.0   \n",
              "\n",
              "   dk_dq_cnt_sum  dk_amnt_per_cnt  dk_amnt_income_ratio  \\\n",
              "0              3              8.0              8.000000   \n",
              "1              2             66.0             66.000000   \n",
              "2              4             10.5             21.000000   \n",
              "3              2             71.0             23.666667   \n",
              "4              3             46.5             46.500000   \n",
              "\n",
              "   dk_amnt_emp_length_ratio  income_occupation  constellation_scr_mean_diff  \\\n",
              "0                      8.00                 18                    43.570731   \n",
              "1                     33.00                 10                   -78.193486   \n",
              "2                      5.25                  9                    56.806514   \n",
              "3                     71.00                 25                   -26.421359   \n",
              "4                     93.00                 19                  -269.301717   \n",
              "\n",
              "   constellation_scr_median_diff  constellation_scr_max_diff  \\\n",
              "0                           23.0                        -108   \n",
              "1                          -96.0                        -222   \n",
              "2                           39.0                         -87   \n",
              "3                          -46.0                        -170   \n",
              "4                         -288.0                        -414   \n",
              "\n",
              "   constellation_scr_min_diff  constellation_dk_cnt_mean_diff  \\\n",
              "0                         442                        0.030271   \n",
              "1                         327                       -0.909442   \n",
              "2                         462                        0.090558   \n",
              "3                         378                       -0.919400   \n",
              "4                         135                        0.100421   \n",
              "\n",
              "   constellation_dk_cnt_median_diff  constellation_dk_cnt_max_diff  \\\n",
              "0                               0.0                             -4   \n",
              "1                              -1.0                             -5   \n",
              "2                               0.0                             -4   \n",
              "3                              -1.0                             -5   \n",
              "4                               0.0                             -4   \n",
              "\n",
              "   constellation_dk_cnt_min_diff  constellation_tot_amnt_mean_diff  \\\n",
              "0                              1                          3.759862   \n",
              "1                              0                         -1.185996   \n",
              "2                              1                         -0.185996   \n",
              "3                              0                         -1.197022   \n",
              "4                              1                          1.827818   \n",
              "\n",
              "   constellation_tot_amnt_median_diff  constellation_tot_amnt_max_diff  \\\n",
              "0                                 4.0                                0   \n",
              "1                                -1.0                               -5   \n",
              "2                                 0.0                               -4   \n",
              "3                                -1.0                               -5   \n",
              "4                                 2.0                               -2   \n",
              "\n",
              "   constellation_tot_amnt_min_diff  constellation_income_mean_diff  \\\n",
              "0                                5                       -0.380050   \n",
              "1                                0                       -1.384816   \n",
              "2                                1                       -1.384816   \n",
              "3                                0                        0.610097   \n",
              "4                                3                       -0.430115   \n",
              "\n",
              "   constellation_income_median_diff  constellation_income_max_diff  \\\n",
              "0                               0.0                             -5   \n",
              "1                              -1.0                             -6   \n",
              "2                              -1.0                             -6   \n",
              "3                               1.0                             -4   \n",
              "4                               0.0                             -5   \n",
              "\n",
              "   constellation_income_min_diff  constellation_dk_amnt(k)_mean_diff  \\\n",
              "0                              1                          -33.583244   \n",
              "1                              0                           16.544144   \n",
              "2                              0                          -28.455856   \n",
              "3                              2                           21.873055   \n",
              "4                              1                           43.695212   \n",
              "\n",
              "   constellation_dk_amnt(k)_median_diff  constellation_dk_amnt(k)_max_diff  \\\n",
              "0                                 -34.0                                -83   \n",
              "1                                  16.0                                -33   \n",
              "2                                 -29.0                                -78   \n",
              "3                                  22.0                                -28   \n",
              "4                                  44.0                                 -6   \n",
              "\n",
              "   constellation_dk_amnt(k)_min_diff  constellation_emp_length_mean_diff  \\\n",
              "0                                 16                           -1.007985   \n",
              "1                                 66                           -0.989333   \n",
              "2                                 21                            1.010667   \n",
              "3                                 71                           -1.996530   \n",
              "4                                 93                           -1.988627   \n",
              "\n",
              "   constellation_emp_length_median_diff  constellation_emp_length_max_diff  \\\n",
              "0                                  -1.0                                 -3   \n",
              "1                                  -1.0                                 -3   \n",
              "2                                   1.0                                 -1   \n",
              "3                                  -2.0                                 -4   \n",
              "4                                  -2.0                                 -4   \n",
              "\n",
              "   constellation_emp_length_min_diff  constellation_dq_cnt_mean_diff  \\\n",
              "0                                  1                       -0.722917   \n",
              "1                                  1                       -0.734340   \n",
              "2                                  3                        0.265660   \n",
              "3                                  0                       -0.749020   \n",
              "4                                  0                       -0.745707   \n",
              "\n",
              "   constellation_dq_cnt_median_diff  constellation_dq_cnt_max_diff  \\\n",
              "0                               0.0                             -4   \n",
              "1                               0.0                             -4   \n",
              "2                               1.0                             -3   \n",
              "3                               0.0                             -4   \n",
              "4                               0.0                             -4   \n",
              "\n",
              "   constellation_dq_cnt_min_diff  grade_scr_mean_diff  grade_scr_median_diff  \\\n",
              "0                              0            35.023184                   19.0   \n",
              "1                              0           -76.348905                  -96.0   \n",
              "2                              1            55.667225                   37.0   \n",
              "3                              0           -27.332775                  -46.0   \n",
              "4                              0          -268.348905                 -288.0   \n",
              "\n",
              "   grade_scr_max_diff  grade_scr_min_diff  grade_dk_cnt_mean_diff  \\\n",
              "0                -108                 441                0.101842   \n",
              "1                -222                 328               -0.915273   \n",
              "2                 -87                 462                0.083963   \n",
              "3                -170                 379               -0.916037   \n",
              "4                -414                 136                0.084727   \n",
              "\n",
              "   grade_dk_cnt_median_diff  grade_dk_cnt_max_diff  grade_dk_cnt_min_diff  \\\n",
              "0                       0.0                     -4                      1   \n",
              "1                      -1.0                     -5                      0   \n",
              "2                       0.0                     -4                      1   \n",
              "3                      -1.0                     -5                      0   \n",
              "4                       0.0                     -4                      1   \n",
              "\n",
              "   grade_tot_amnt_mean_diff  grade_tot_amnt_median_diff  \\\n",
              "0                  3.868557                         4.0   \n",
              "1                 -1.176213                        -1.0   \n",
              "2                 -0.168987                         0.0   \n",
              "3                 -1.168987                        -1.0   \n",
              "4                  1.823787                         2.0   \n",
              "\n",
              "   grade_tot_amnt_max_diff  grade_tot_amnt_min_diff  grade_income_mean_diff  \\\n",
              "0                        0                        5               -0.399710   \n",
              "1                       -5                        0               -1.428895   \n",
              "2                       -4                        1               -1.387701   \n",
              "3                       -5                        0                0.612299   \n",
              "4                       -2                        3               -0.428895   \n",
              "\n",
              "   grade_income_median_diff  grade_income_max_diff  grade_income_min_diff  \\\n",
              "0                       0.0                     -5                      1   \n",
              "1                      -1.0                     -6                      0   \n",
              "2                      -1.0                     -6                      0   \n",
              "3                       1.0                     -4                      2   \n",
              "4                       0.0                     -5                      1   \n",
              "\n",
              "   grade_dk_amnt(k)_mean_diff  grade_dk_amnt(k)_median_diff  \\\n",
              "0                  -33.305734                         -34.0   \n",
              "1                   16.656074                          17.0   \n",
              "2                  -28.295975                         -28.0   \n",
              "3                   21.704025                          22.0   \n",
              "4                   43.656074                          44.0   \n",
              "\n",
              "   grade_dk_amnt(k)_max_diff  grade_dk_amnt(k)_min_diff  \\\n",
              "0                        -83                         16   \n",
              "1                        -33                         66   \n",
              "2                        -78                         21   \n",
              "3                        -28                         71   \n",
              "4                         -6                         93   \n",
              "\n",
              "   grade_emp_length_mean_diff  grade_emp_length_median_diff  \\\n",
              "0                   -0.999379                          -1.0   \n",
              "1                   -1.018581                          -1.0   \n",
              "2                    1.008653                           1.0   \n",
              "3                   -1.991347                          -2.0   \n",
              "4                   -2.018581                          -2.0   \n",
              "\n",
              "   grade_emp_length_max_diff  grade_emp_length_min_diff  \\\n",
              "0                         -3                          1   \n",
              "1                         -3                          1   \n",
              "2                         -1                          3   \n",
              "3                         -4                          0   \n",
              "4                         -4                          0   \n",
              "\n",
              "   grade_dq_cnt_mean_diff  grade_dq_cnt_median_diff  grade_dq_cnt_max_diff  \\\n",
              "0               -0.740426                       0.0                     -4   \n",
              "1               -0.748897                       0.0                     -4   \n",
              "2                0.271247                       1.0                     -3   \n",
              "3               -0.728753                       0.0                     -4   \n",
              "4               -0.748897                       0.0                     -4   \n",
              "\n",
              "   grade_dq_cnt_min_diff  index_scr_mean_diff  index_scr_median_diff  \\\n",
              "0                      0            34.187000                   16.0   \n",
              "1                      0           -70.902080                  -90.0   \n",
              "2                      1            55.187000                   37.0   \n",
              "3                      0           -27.813000                  -46.0   \n",
              "4                      0          -272.205453                 -290.0   \n",
              "\n",
              "   index_scr_max_diff  index_scr_min_diff  index_dk_cnt_mean_diff  \\\n",
              "0                -108                 442                0.080890   \n",
              "1                -222                 328               -0.966693   \n",
              "2                 -87                 463                0.080890   \n",
              "3                -170                 380               -0.919110   \n",
              "4                -414                 135                0.102877   \n",
              "\n",
              "   index_dk_cnt_median_diff  index_dk_cnt_max_diff  index_dk_cnt_min_diff  \\\n",
              "0                       0.0                     -4                      1   \n",
              "1                      -1.0                     -5                      0   \n",
              "2                       0.0                     -4                      1   \n",
              "3                      -1.0                     -5                      0   \n",
              "4                       0.0                     -4                      1   \n",
              "\n",
              "   index_tot_amnt_mean_diff  index_tot_amnt_median_diff  \\\n",
              "0                  3.818126                         4.0   \n",
              "1                 -1.228446                        -1.0   \n",
              "2                 -0.181874                         0.0   \n",
              "3                 -1.181874                        -1.0   \n",
              "4                  1.831902                         2.0   \n",
              "\n",
              "   index_tot_amnt_max_diff  index_tot_amnt_min_diff  index_income_mean_diff  \\\n",
              "0                        0                        5               -0.381587   \n",
              "1                       -5                        0               -1.381476   \n",
              "2                       -4                        1               -1.381587   \n",
              "3                       -5                        0                0.618413   \n",
              "4                       -2                        3               -0.412505   \n",
              "\n",
              "   index_income_median_diff  index_income_max_diff  index_income_min_diff  \\\n",
              "0                       0.0                     -5                      1   \n",
              "1                      -1.0                     -6                      0   \n",
              "2                      -1.0                     -6                      0   \n",
              "3                       1.0                     -4                      2   \n",
              "4                       0.0                     -5                      1   \n",
              "\n",
              "   index_dk_amnt(k)_mean_diff  index_dk_amnt(k)_median_diff  \\\n",
              "0                  -34.036908                         -34.0   \n",
              "1                   16.283357                          16.0   \n",
              "2                  -29.036908                         -29.0   \n",
              "3                   20.963092                          21.0   \n",
              "4                   43.866360                          44.0   \n",
              "\n",
              "   index_dk_amnt(k)_max_diff  index_dk_amnt(k)_min_diff  \\\n",
              "0                        -83                         16   \n",
              "1                        -33                         66   \n",
              "2                        -78                         21   \n",
              "3                        -28                         71   \n",
              "4                         -6                         93   \n",
              "\n",
              "   index_emp_length_mean_diff  index_emp_length_median_diff  \\\n",
              "0                   -1.002973                          -1.0   \n",
              "1                   -0.996999                          -1.0   \n",
              "2                    0.997027                           1.0   \n",
              "3                   -2.002973                          -2.0   \n",
              "4                   -1.980623                          -2.0   \n",
              "\n",
              "   index_emp_length_max_diff  index_emp_length_min_diff  \\\n",
              "0                         -3                          1   \n",
              "1                         -3                          1   \n",
              "2                         -1                          3   \n",
              "3                         -4                          0   \n",
              "4                         -4                          0   \n",
              "\n",
              "   index_dq_cnt_mean_diff  index_dq_cnt_median_diff  index_dq_cnt_max_diff  \\\n",
              "0               -0.768300                       0.0                     -4   \n",
              "1               -0.722745                       0.0                     -4   \n",
              "2                0.231700                       1.0                     -3   \n",
              "3               -0.768300                       0.0                     -4   \n",
              "4               -0.745805                       0.0                     -4   \n",
              "\n",
              "   index_dq_cnt_min_diff  occupation_scr_mean_diff  \\\n",
              "0                      0                 38.626450   \n",
              "1                      0                -75.101184   \n",
              "2                      1                 60.968772   \n",
              "3                      0                -23.373550   \n",
              "4                      0               -268.011758   \n",
              "\n",
              "   occupation_scr_median_diff  occupation_scr_max_diff  \\\n",
              "0                        19.0                     -108   \n",
              "1                       -94.0                     -222   \n",
              "2                        43.0                      -87   \n",
              "3                       -43.0                     -170   \n",
              "4                      -287.0                     -414   \n",
              "\n",
              "   occupation_scr_min_diff  occupation_dk_cnt_mean_diff  \\\n",
              "0                      442                     0.059905   \n",
              "1                      328                    -0.930769   \n",
              "2                      463                     0.051242   \n",
              "3                      380                    -0.940095   \n",
              "4                      136                     0.061017   \n",
              "\n",
              "   occupation_dk_cnt_median_diff  occupation_dk_cnt_max_diff  \\\n",
              "0                            0.0                          -4   \n",
              "1                           -1.0                          -5   \n",
              "2                            0.0                          -4   \n",
              "3                           -1.0                          -5   \n",
              "4                            0.0                          -4   \n",
              "\n",
              "   occupation_dk_cnt_min_diff  occupation_tot_amnt_mean_diff  \\\n",
              "0                           1                       3.809520   \n",
              "1                           0                      -1.197744   \n",
              "2                           1                      -0.201065   \n",
              "3                           0                      -1.190480   \n",
              "4                           1                       1.800250   \n",
              "\n",
              "   occupation_tot_amnt_median_diff  occupation_tot_amnt_max_diff  \\\n",
              "0                              4.0                             0   \n",
              "1                             -1.0                            -5   \n",
              "2                              0.0                            -4   \n",
              "3                             -1.0                            -5   \n",
              "4                              2.0                            -2   \n",
              "\n",
              "   occupation_tot_amnt_min_diff  occupation_income_mean_diff  \\\n",
              "0                             5                    -0.372291   \n",
              "1                             0                    -1.390933   \n",
              "2                             1                    -1.408091   \n",
              "3                             0                     0.627709   \n",
              "4                             3                    -0.372713   \n",
              "\n",
              "   occupation_income_median_diff  occupation_income_max_diff  \\\n",
              "0                            0.0                          -5   \n",
              "1                           -1.0                          -6   \n",
              "2                           -1.0                          -6   \n",
              "3                            1.0                          -4   \n",
              "4                            0.0                          -5   \n",
              "\n",
              "   occupation_income_min_diff  occupation_dk_amnt(k)_mean_diff  \\\n",
              "0                           1                       -33.221306   \n",
              "1                           0                        16.771144   \n",
              "2                           0                       -28.593400   \n",
              "3                           2                        21.778694   \n",
              "4                           1                        43.453002   \n",
              "\n",
              "   occupation_dk_amnt(k)_median_diff  occupation_dk_amnt(k)_max_diff  \\\n",
              "0                              -33.0                             -83   \n",
              "1                               17.0                             -33   \n",
              "2                              -29.0                             -78   \n",
              "3                               22.0                             -28   \n",
              "4                               43.0                              -6   \n",
              "\n",
              "   occupation_dk_amnt(k)_min_diff  occupation_emp_length_mean_diff  \\\n",
              "0                              16                        -0.989375   \n",
              "1                              66                        -1.012963   \n",
              "2                              21                         0.999929   \n",
              "3                              71                        -1.989375   \n",
              "4                              93                        -1.986642   \n",
              "\n",
              "   occupation_emp_length_median_diff  occupation_emp_length_max_diff  \\\n",
              "0                               -1.0                              -3   \n",
              "1                               -1.0                              -3   \n",
              "2                                1.0                              -1   \n",
              "3                               -2.0                              -4   \n",
              "4                               -2.0                              -4   \n",
              "\n",
              "   occupation_emp_length_min_diff  occupation_dq_cnt_mean_diff  \\\n",
              "0                               1                    -0.746190   \n",
              "1                               1                    -0.754467   \n",
              "2                               3                     0.275515   \n",
              "3                               0                    -0.746190   \n",
              "4                               0                    -0.724553   \n",
              "\n",
              "   occupation_dq_cnt_median_diff  occupation_dq_cnt_max_diff  \\\n",
              "0                            0.0                          -4   \n",
              "1                            0.0                          -4   \n",
              "2                            1.0                          -3   \n",
              "3                            0.0                          -4   \n",
              "4                            0.0                          -4   \n",
              "\n",
              "   occupation_dq_cnt_min_diff  diploma_scr_mean_diff  diploma_scr_median_diff  \\\n",
              "0                           0              37.164900                     18.0   \n",
              "1                           0             -76.835100                    -96.0   \n",
              "2                           1              55.401005                     39.0   \n",
              "3                           0             -23.304079                    -43.0   \n",
              "4                           0            -264.559620                   -284.0   \n",
              "\n",
              "   diploma_scr_max_diff  diploma_scr_min_diff  diploma_dk_cnt_mean_diff  \\\n",
              "0                  -108                   442                  0.076283   \n",
              "1                  -222                   328                 -0.923717   \n",
              "2                   -87                   462                  0.111859   \n",
              "3                  -170                   380                 -0.933593   \n",
              "4                  -414                   136                  0.043926   \n",
              "\n",
              "   diploma_dk_cnt_median_diff  diploma_dk_cnt_max_diff  \\\n",
              "0                         0.0                       -4   \n",
              "1                        -1.0                       -5   \n",
              "2                         0.0                       -4   \n",
              "3                        -1.0                       -5   \n",
              "4                         0.0                       -4   \n",
              "\n",
              "   diploma_dk_cnt_min_diff  diploma_tot_amnt_mean_diff  \\\n",
              "0                        1                    3.816227   \n",
              "1                        0                   -1.183773   \n",
              "2                        1                   -0.156583   \n",
              "3                        0                   -1.201070   \n",
              "4                        1                    1.793083   \n",
              "\n",
              "   diploma_tot_amnt_median_diff  diploma_tot_amnt_max_diff  \\\n",
              "0                           4.0                          0   \n",
              "1                          -1.0                         -5   \n",
              "2                           0.0                         -4   \n",
              "3                          -1.0                         -5   \n",
              "4                           2.0                         -2   \n",
              "\n",
              "   diploma_tot_amnt_min_diff  diploma_income_mean_diff  \\\n",
              "0                          5                 -0.402120   \n",
              "1                          0                 -1.402120   \n",
              "2                          1                 -1.376683   \n",
              "3                          0                  0.618856   \n",
              "4                          3                 -0.388763   \n",
              "\n",
              "   diploma_income_median_diff  diploma_income_max_diff  \\\n",
              "0                         0.0                       -5   \n",
              "1                        -1.0                       -6   \n",
              "2                        -1.0                       -6   \n",
              "3                         1.0                       -4   \n",
              "4                         0.0                       -5   \n",
              "\n",
              "   diploma_income_min_diff  diploma_dk_amnt(k)_mean_diff  \\\n",
              "0                        1                    -33.635328   \n",
              "1                        0                     16.364672   \n",
              "2                        0                    -28.558090   \n",
              "3                        2                     21.563350   \n",
              "4                        1                     43.722537   \n",
              "\n",
              "   diploma_dk_amnt(k)_median_diff  diploma_dk_amnt(k)_max_diff  \\\n",
              "0                           -33.0                          -83   \n",
              "1                            17.0                          -33   \n",
              "2                           -29.0                          -78   \n",
              "3                            21.0                          -28   \n",
              "4                            44.0                           -6   \n",
              "\n",
              "   diploma_dk_amnt(k)_min_diff  diploma_emp_length_mean_diff  \\\n",
              "0                           16                     -1.001684   \n",
              "1                           66                     -1.001684   \n",
              "2                           21                      0.990050   \n",
              "3                           71                     -1.994490   \n",
              "4                           93                     -1.998327   \n",
              "\n",
              "   diploma_emp_length_median_diff  diploma_emp_length_max_diff  \\\n",
              "0                            -1.0                           -3   \n",
              "1                            -1.0                           -3   \n",
              "2                             1.0                           -1   \n",
              "3                            -2.0                           -4   \n",
              "4                            -2.0                           -4   \n",
              "\n",
              "   diploma_emp_length_min_diff  diploma_dq_cnt_mean_diff  \\\n",
              "0                            1                 -0.752724   \n",
              "1                            1                 -0.752724   \n",
              "2                            3                  0.247236   \n",
              "3                            0                 -0.738114   \n",
              "4                            0                 -0.744712   \n",
              "\n",
              "   diploma_dq_cnt_median_diff  diploma_dq_cnt_max_diff  \\\n",
              "0                         0.0                       -4   \n",
              "1                         0.0                       -4   \n",
              "2                         1.0                       -3   \n",
              "3                         0.0                       -4   \n",
              "4                         0.0                       -4   \n",
              "\n",
              "   diploma_dq_cnt_min_diff  scr_bin  scr_bin_scr_mean_diff  \\\n",
              "0                        0        4             -45.622483   \n",
              "1                        0        2              43.853882   \n",
              "2                        1        4             -24.622483   \n",
              "3                        0        3              -9.914202   \n",
              "4                        0        1             -57.800764   \n",
              "\n",
              "   scr_bin_scr_median_diff  scr_bin_scr_max_diff  scr_bin_scr_min_diff  \\\n",
              "0                    -42.0                  -108                     1   \n",
              "1                     41.0                    -2                   107   \n",
              "2                    -21.0                   -87                    22   \n",
              "3                    -12.0                   -60                    49   \n",
              "4                    -70.0                   -84                    25   \n",
              "\n",
              "   scr_bin_diploma_mean_diff  scr_bin_diploma_median_diff  \\\n",
              "0                   0.831652                          1.0   \n",
              "1                   0.882240                          1.0   \n",
              "2                   1.831652                          2.0   \n",
              "3                  -0.158912                          0.0   \n",
              "4                  -1.024991                         -1.0   \n",
              "\n",
              "   scr_bin_diploma_max_diff  scr_bin_diploma_min_diff  \\\n",
              "0                        -2                         2   \n",
              "1                        -2                         2   \n",
              "2                        -1                         3   \n",
              "3                        -3                         1   \n",
              "4                        -4                         0   \n",
              "\n",
              "   scr_bin_constellation_mean_diff  scr_bin_constellation_median_diff  \\\n",
              "0                        -4.589739                               -5.0   \n",
              "1                        -2.514563                               -3.0   \n",
              "2                        -2.589739                               -3.0   \n",
              "3                         5.418686                                5.0   \n",
              "4                         4.596321                                5.0   \n",
              "\n",
              "   scr_bin_constellation_max_diff  scr_bin_constellation_min_diff  \\\n",
              "0                             -10                               1   \n",
              "1                              -8                               3   \n",
              "2                              -8                               3   \n",
              "3                               0                              11   \n",
              "4                              -1                              10   \n",
              "\n",
              "   scr_bin_grade_mean_diff  scr_bin_grade_median_diff  scr_bin_grade_max_diff  \\\n",
              "0                -2.542509                       -2.0                      -7   \n",
              "1                 0.277729                        1.0                      -4   \n",
              "2                -0.542509                        0.0                      -5   \n",
              "3                -0.565785                        0.0                      -5   \n",
              "4                -0.066991                        0.0                      -4   \n",
              "\n",
              "   scr_bin_grade_min_diff  scr_bin_index_mean_diff  scr_bin_index_median_diff  \\\n",
              "0                       0                -2.443907                       -2.0   \n",
              "1                       3                 3.370908                        3.0   \n",
              "2                       2                -2.443907                       -2.0   \n",
              "3                       2                -2.463443                       -2.0   \n",
              "4                       3                -4.864630                       -5.0   \n",
              "\n",
              "   scr_bin_index_max_diff  scr_bin_index_min_diff  scr_bin_dk_cnt_mean_diff  \\\n",
              "0                      -7                       2                  0.099389   \n",
              "1                      -1                       8                 -0.980072   \n",
              "2                      -7                       2                  0.099389   \n",
              "3                      -7                       2                 -0.913650   \n",
              "4                      -9                       0                 -0.194030   \n",
              "\n",
              "   scr_bin_dk_cnt_median_diff  scr_bin_dk_cnt_max_diff  \\\n",
              "0                         0.0                       -4   \n",
              "1                        -1.0                       -5   \n",
              "2                         0.0                       -4   \n",
              "3                        -1.0                       -5   \n",
              "4                         0.0                       -4   \n",
              "\n",
              "   scr_bin_dk_cnt_min_diff  scr_bin_tot_amnt_mean_diff  \\\n",
              "0                        1                    3.830772   \n",
              "1                        0                   -1.244662   \n",
              "2                        1                   -0.169228   \n",
              "3                        0                   -1.171567   \n",
              "4                        1                    1.631725   \n",
              "\n",
              "   scr_bin_tot_amnt_median_diff  scr_bin_tot_amnt_max_diff  \\\n",
              "0                           4.0                          0   \n",
              "1                          -1.0                         -5   \n",
              "2                           0.0                         -4   \n",
              "3                          -1.0                         -5   \n",
              "4                           2.0                         -2   \n",
              "\n",
              "   scr_bin_tot_amnt_min_diff  scr_bin_income_mean_diff  \\\n",
              "0                          5                 -0.408988   \n",
              "1                          0                 -1.351692   \n",
              "2                          1                 -1.408988   \n",
              "3                          0                  0.599048   \n",
              "4                          3                 -0.257202   \n",
              "\n",
              "   scr_bin_income_median_diff  scr_bin_income_max_diff  \\\n",
              "0                         0.0                       -5   \n",
              "1                        -1.0                       -6   \n",
              "2                        -1.0                       -6   \n",
              "3                         1.0                       -4   \n",
              "4                         1.0                       -5   \n",
              "\n",
              "   scr_bin_income_min_diff  scr_bin_occupation_mean_diff  \\\n",
              "0                        1                      0.992595   \n",
              "1                        0                     -0.006898   \n",
              "2                        0                     -1.007405   \n",
              "3                        2                      0.988941   \n",
              "4                        1                      2.061784   \n",
              "\n",
              "   scr_bin_occupation_median_diff  scr_bin_occupation_max_diff  \\\n",
              "0                             1.0                           -2   \n",
              "1                             0.0                           -3   \n",
              "2                            -1.0                           -4   \n",
              "3                             1.0                           -2   \n",
              "4                             2.0                           -1   \n",
              "\n",
              "   scr_bin_occupation_min_diff  scr_bin_dk_amnt(k)_mean_diff  \\\n",
              "0                            4                    -33.400518   \n",
              "1                            3                     16.441695   \n",
              "2                            2                    -28.400518   \n",
              "3                            4                     21.679418   \n",
              "4                            5                     43.056925   \n",
              "\n",
              "   scr_bin_dk_amnt(k)_median_diff  scr_bin_dk_amnt(k)_max_diff  \\\n",
              "0                           -33.0                          -83   \n",
              "1                            16.0                          -33   \n",
              "2                           -28.0                          -78   \n",
              "3                            22.0                          -28   \n",
              "4                            43.0                           -6   \n",
              "\n",
              "   scr_bin_dk_amnt(k)_min_diff  scr_bin_emp_length_mean_diff  \\\n",
              "0                           16                     -0.995534   \n",
              "1                           66                     -0.991076   \n",
              "2                           21                      1.004466   \n",
              "3                           71                     -2.002264   \n",
              "4                           93                     -2.037487   \n",
              "\n",
              "   scr_bin_emp_length_median_diff  scr_bin_emp_length_max_diff  \\\n",
              "0                            -1.0                           -3   \n",
              "1                            -1.0                           -3   \n",
              "2                             1.0                           -1   \n",
              "3                            -2.0                           -4   \n",
              "4                            -2.0                           -4   \n",
              "\n",
              "   scr_bin_emp_length_min_diff  scr_bin_dq_cnt_mean_diff  \\\n",
              "0                            1                 -0.754640   \n",
              "1                            1                 -0.735848   \n",
              "2                            3                  0.245360   \n",
              "3                            0                 -0.732679   \n",
              "4                            0                 -0.765012   \n",
              "\n",
              "   scr_bin_dq_cnt_median_diff  scr_bin_dq_cnt_max_diff  \\\n",
              "0                         0.0                       -4   \n",
              "1                         0.0                       -4   \n",
              "2                         1.0                       -3   \n",
              "3                         0.0                       -4   \n",
              "4                         0.0                       -4   \n",
              "\n",
              "   scr_bin_dq_cnt_min_diff  dk_amnt(k)_bin  dk_amnt(k)_bin_scr_mean_diff  \\\n",
              "0                        0               1                     37.022558   \n",
              "1                        0               6                    -75.274569   \n",
              "2                        1               2                     59.164407   \n",
              "3                        0               7                    -23.850299   \n",
              "4                        0               9                   -266.327249   \n",
              "\n",
              "   dk_amnt(k)_bin_scr_median_diff  dk_amnt(k)_bin_scr_max_diff  \\\n",
              "0                            19.0                         -108   \n",
              "1                           -96.0                         -222   \n",
              "2                            39.0                          -87   \n",
              "3                           -44.0                         -170   \n",
              "4                          -286.0                         -414   \n",
              "\n",
              "   dk_amnt(k)_bin_scr_min_diff  dk_amnt(k)_bin_diploma_mean_diff  \\\n",
              "0                          441                          0.859684   \n",
              "1                          328                          0.837510   \n",
              "2                          462                          1.857627   \n",
              "3                          380                         -0.154166   \n",
              "4                          136                         -1.146826   \n",
              "\n",
              "   dk_amnt(k)_bin_diploma_median_diff  dk_amnt(k)_bin_diploma_max_diff  \\\n",
              "0                                 1.0                               -2   \n",
              "1                                 1.0                               -2   \n",
              "2                                 2.0                               -1   \n",
              "3                                 0.0                               -3   \n",
              "4                                -1.0                               -4   \n",
              "\n",
              "   dk_amnt(k)_bin_diploma_min_diff  dk_amnt(k)_bin_constellation_mean_diff  \\\n",
              "0                                2                               -4.594356   \n",
              "1                                2                               -2.555991   \n",
              "2                                3                               -2.585045   \n",
              "3                                1                                5.460367   \n",
              "4                                0                                4.411694   \n",
              "\n",
              "   dk_amnt(k)_bin_constellation_median_diff  \\\n",
              "0                                      -5.0   \n",
              "1                                      -3.0   \n",
              "2                                      -3.0   \n",
              "3                                       5.0   \n",
              "4                                       4.0   \n",
              "\n",
              "   dk_amnt(k)_bin_constellation_max_diff  \\\n",
              "0                                    -10   \n",
              "1                                     -8   \n",
              "2                                     -8   \n",
              "3                                      0   \n",
              "4                                     -1   \n",
              "\n",
              "   dk_amnt(k)_bin_constellation_min_diff  dk_amnt(k)_bin_grade_mean_diff  \\\n",
              "0                                      1                       -2.633111   \n",
              "1                                      3                        0.388410   \n",
              "2                                      3                       -0.612463   \n",
              "3                                     11                       -0.588856   \n",
              "4                                     10                        0.394344   \n",
              "\n",
              "   dk_amnt(k)_bin_grade_median_diff  dk_amnt(k)_bin_grade_max_diff  \\\n",
              "0                              -2.0                             -7   \n",
              "1                               1.0                             -4   \n",
              "2                               0.0                             -5   \n",
              "3                               0.0                             -5   \n",
              "4                               1.0                             -4   \n",
              "\n",
              "   dk_amnt(k)_bin_grade_min_diff  dk_amnt(k)_bin_index_mean_diff  \\\n",
              "0                              0                       -2.500646   \n",
              "1                              3                        3.480912   \n",
              "2                              2                       -2.489133   \n",
              "3                              2                       -2.525931   \n",
              "4                              3                       -4.508073   \n",
              "\n",
              "   dk_amnt(k)_bin_index_median_diff  dk_amnt(k)_bin_index_max_diff  \\\n",
              "0                              -3.0                             -7   \n",
              "1                               3.0                             -1   \n",
              "2                              -3.0                             -7   \n",
              "3                              -3.0                             -7   \n",
              "4                              -5.0                             -9   \n",
              "\n",
              "   dk_amnt(k)_bin_index_min_diff  dk_amnt(k)_bin_dk_cnt_mean_diff  \\\n",
              "0                              2                         0.074431   \n",
              "1                              8                        -0.938234   \n",
              "2                              2                         0.062114   \n",
              "3                              2                        -0.933015   \n",
              "4                              0                         0.051750   \n",
              "\n",
              "   dk_amnt(k)_bin_dk_cnt_median_diff  dk_amnt(k)_bin_dk_cnt_max_diff  \\\n",
              "0                                0.0                              -4   \n",
              "1                               -1.0                              -5   \n",
              "2                                0.0                              -4   \n",
              "3                               -1.0                              -5   \n",
              "4                                0.0                              -4   \n",
              "\n",
              "   dk_amnt(k)_bin_dk_cnt_min_diff  dk_amnt(k)_bin_tot_amnt_mean_diff  \\\n",
              "0                               1                           3.811786   \n",
              "1                               0                          -1.214761   \n",
              "2                               1                          -0.174377   \n",
              "3                               0                          -1.193951   \n",
              "4                               1                           1.805536   \n",
              "\n",
              "   dk_amnt(k)_bin_tot_amnt_median_diff  dk_amnt(k)_bin_tot_amnt_max_diff  \\\n",
              "0                                  4.0                                 0   \n",
              "1                                 -1.0                                -5   \n",
              "2                                  0.0                                -4   \n",
              "3                                 -1.0                                -5   \n",
              "4                                  2.0                                -2   \n",
              "\n",
              "   dk_amnt(k)_bin_tot_amnt_min_diff  dk_amnt(k)_bin_income_mean_diff  \\\n",
              "0                                 5                        -0.365100   \n",
              "1                                 0                        -1.384495   \n",
              "2                                 1                        -1.404287   \n",
              "3                                 0                         0.605805   \n",
              "4                                 3                        -0.384114   \n",
              "\n",
              "   dk_amnt(k)_bin_income_median_diff  dk_amnt(k)_bin_income_max_diff  \\\n",
              "0                                0.0                              -5   \n",
              "1                               -1.0                              -6   \n",
              "2                               -1.0                              -6   \n",
              "3                                1.0                              -4   \n",
              "4                                0.0                              -5   \n",
              "\n",
              "   dk_amnt(k)_bin_income_min_diff  dk_amnt(k)_bin_occupation_mean_diff  \\\n",
              "0                               1                             0.985690   \n",
              "1                               0                            -0.030638   \n",
              "2                               0                            -1.012861   \n",
              "3                               2                             1.003755   \n",
              "4                               1                             2.026978   \n",
              "\n",
              "   dk_amnt(k)_bin_occupation_median_diff  dk_amnt(k)_bin_occupation_max_diff  \\\n",
              "0                                    1.0                                  -2   \n",
              "1                                    0.0                                  -3   \n",
              "2                                   -1.0                                  -4   \n",
              "3                                    1.0                                  -2   \n",
              "4                                    2.0                                  -1   \n",
              "\n",
              "   dk_amnt(k)_bin_occupation_min_diff  dk_amnt(k)_bin_dk_amnt(k)_mean_diff  \\\n",
              "0                                   4                             1.487827   \n",
              "1                                   3                             1.499315   \n",
              "2                                   2                            -3.486142   \n",
              "3                                   4                            -3.534862   \n",
              "4                                   5                            -1.481898   \n",
              "\n",
              "   dk_amnt(k)_bin_dk_amnt(k)_median_diff  dk_amnt(k)_bin_dk_amnt(k)_max_diff  \\\n",
              "0                                    2.0                                  -3   \n",
              "1                                    1.0                                  -3   \n",
              "2                                   -3.0                                  -8   \n",
              "3                                   -4.0                                  -8   \n",
              "4                                   -1.0                                  -6   \n",
              "\n",
              "   dk_amnt(k)_bin_dk_amnt(k)_min_diff  dk_amnt(k)_bin_emp_length_mean_diff  \\\n",
              "0                                   6                            -0.986982   \n",
              "1                                   6                            -0.999119   \n",
              "2                                   1                             0.999103   \n",
              "3                                   1                            -2.010048   \n",
              "4                                   3                            -1.983753   \n",
              "\n",
              "   dk_amnt(k)_bin_emp_length_median_diff  dk_amnt(k)_bin_emp_length_max_diff  \\\n",
              "0                                   -1.0                                  -3   \n",
              "1                                   -1.0                                  -3   \n",
              "2                                    1.0                                  -1   \n",
              "3                                   -2.0                                  -4   \n",
              "4                                   -2.0                                  -4   \n",
              "\n",
              "   dk_amnt(k)_bin_emp_length_min_diff  dk_amnt(k)_bin_dq_cnt_mean_diff  \\\n",
              "0                                   1                        -0.762794   \n",
              "1                                   1                        -0.729738   \n",
              "2                                   3                         0.276570   \n",
              "3                                   0                        -0.748706   \n",
              "4                                   0                        -0.723899   \n",
              "\n",
              "   dk_amnt(k)_bin_dq_cnt_median_diff  dk_amnt(k)_bin_dq_cnt_max_diff  \\\n",
              "0                                0.0                              -4   \n",
              "1                                0.0                              -4   \n",
              "2                                1.0                              -3   \n",
              "3                                0.0                              -4   \n",
              "4                                0.0                              -4   \n",
              "\n",
              "   dk_amnt(k)_bin_dq_cnt_min_diff  \n",
              "0                               0  \n",
              "1                               0  \n",
              "2                               1  \n",
              "3                               0  \n",
              "4                               0  "
            ]
          },
          "metadata": {
            "tags": []
          },
          "execution_count": 260
        }
      ]
    },
    {
      "cell_type": "code",
      "metadata": {
        "id": "YX77cX-wTPDo",
        "colab_type": "code",
        "colab": {}
      },
      "source": [
        "for f in df_feature.select_dtypes('object'):\n",
        "    if f not in ['date', 'type']:\n",
        "        print(f)\n",
        "        lbl = LabelEncoder()\n",
        "        df_feature[f] = lbl.fit_transform(df_feature[f].astype(str))"
      ],
      "execution_count": 0,
      "outputs": []
    },
    {
      "cell_type": "code",
      "metadata": {
        "id": "pzVnmrtWUVkR",
        "colab_type": "code",
        "colab": {}
      },
      "source": [
        "for idx in label_0_test_idxs + label_1_test_idxs:\n",
        "  df_feature.iloc[idx, df_feature.columns.get_loc('type')] = 'test'"
      ],
      "execution_count": 0,
      "outputs": []
    },
    {
      "cell_type": "code",
      "metadata": {
        "id": "bGqv3u7vataJ",
        "colab_type": "code",
        "colab": {}
      },
      "source": [
        "seed = 2020\n",
        "df_train = df_feature[df_feature['type'] == 'train'].copy()\n",
        "df_train = shuffle(df_train, random_state=seed)"
      ],
      "execution_count": 0,
      "outputs": []
    },
    {
      "cell_type": "code",
      "metadata": {
        "id": "oQbo15VdPyye",
        "colab_type": "code",
        "colab": {}
      },
      "source": [
        "delete_list = []"
      ],
      "execution_count": 0,
      "outputs": []
    },
    {
      "cell_type": "code",
      "metadata": {
        "id": "VLeQOkyea3IB",
        "colab_type": "code",
        "colab": {}
      },
      "source": [
        "ycol = 'y'"
      ],
      "execution_count": 0,
      "outputs": []
    },
    {
      "cell_type": "code",
      "metadata": {
        "id": "mG_B54nIa6dM",
        "colab_type": "code",
        "colab": {}
      },
      "source": [
        "feature_names = list(\n",
        "    filter(lambda x: x not in ([ycol, 'type'] + delete_list), df_train.columns))"
      ],
      "execution_count": 0,
      "outputs": []
    },
    {
      "cell_type": "code",
      "metadata": {
        "id": "AoxgTc6zbDAA",
        "colab_type": "code",
        "colab": {}
      },
      "source": [
        "model = lgb.LGBMClassifier(num_leaves=64,\n",
        "                           max_depth=10,\n",
        "                           learning_rate=0.1,\n",
        "                           n_estimators=10000000,\n",
        "                           subsample=0.8,\n",
        "                           feature_fraction=0.8,\n",
        "                           reg_alpha=0.5,\n",
        "                           reg_lambda=0.5,\n",
        "                           random_state=seed,\n",
        "                           metric=None\n",
        "                           )"
      ],
      "execution_count": 0,
      "outputs": []
    },
    {
      "cell_type": "code",
      "metadata": {
        "id": "7WhVrjqq3-Vh",
        "colab_type": "code",
        "colab": {}
      },
      "source": [
        "# # SMOTE 算法处理样本不平衡\n",
        "# from imblearn.over_sampling import SMOTE\n",
        "# sm = SMOTE(random_state=2020)\n",
        "# X_res, y_res = sm.fit_resample(df_train[feature_names], df_train[ycol])\n",
        "# df_train = pd.DataFrame(X_res)\n",
        "# df_train.columns = feature_names\n",
        "# df_train[ycol] = y_res\n",
        "# df_train = shuffle(df_train, random_state=seed)"
      ],
      "execution_count": 0,
      "outputs": []
    },
    {
      "cell_type": "code",
      "metadata": {
        "id": "UTO2XsHZbHQN",
        "colab_type": "code",
        "outputId": "0ec6b215-eaf9-4b70-b4aa-b8f8e0fcac61",
        "colab": {
          "base_uri": "https://localhost:8080/",
          "height": 1000
        }
      },
      "source": [
        "oof = []\n",
        "df_importance_list = []\n",
        "prediction_list = []\n",
        "df_test = df_feature[df_feature['type'] == 'test'].copy()\n",
        "prediction = pd.DataFrame([0 for i in range(len(df_test))])\n",
        "prediction.columns = ['target']\n",
        "\n",
        "prediction_train_all_list = []\n",
        "df_train_all = df_feature.copy()\n",
        "prediction_train_all = pd.DataFrame([0 for i in range(len(df_train_all))])\n",
        "prediction_train_all.columns = ['target']\n",
        "\n",
        "kfold = KFold(n_splits=10)\n",
        "for fold_id, (trn_idx, val_idx) in enumerate(kfold.split(df_train[feature_names], df_train[ycol])):\n",
        "    X_train = df_train.iloc[trn_idx][feature_names]\n",
        "    Y_train = df_train.iloc[trn_idx][ycol]\n",
        "    \n",
        "    X_val = df_train.iloc[val_idx][feature_names]\n",
        "    Y_val = df_train.iloc[val_idx][ycol]\n",
        "\n",
        "    print('\\nFold_{} Training ================================\\n'.format(fold_id+1))\n",
        "\n",
        "    lgb_model = model.fit(X_train,\n",
        "                          Y_train,\n",
        "                          eval_names=['train', 'valid'],\n",
        "                          eval_set=[(X_train, Y_train), (X_val, Y_val)],\n",
        "                          verbose=500,\n",
        "                          eval_metric='auc',\n",
        "                          early_stopping_rounds=50)\n",
        "\n",
        "    pred_val = lgb_model.predict_proba(\n",
        "        X_val, num_iteration=lgb_model.best_iteration_)[:, 1]\n",
        "    df_oof = df_train.iloc[val_idx][[ycol]].copy()\n",
        "    df_oof['pred'] = pred_val\n",
        "    oof.append(df_oof)\n",
        "\n",
        "    pred_test = lgb_model.predict_proba(\n",
        "        df_test[feature_names], num_iteration=lgb_model.best_iteration_)[:, 1]\n",
        "    prediction['target'] += pred_test / 10\n",
        "    prediction_list.append(pred_test.copy())\n",
        "\n",
        "    pred_train_all = lgb_model.predict_proba(\n",
        "        df_train_all[feature_names], num_iteration=lgb_model.best_iteration_)[:, 1]\n",
        "    prediction_train_all['target'] += pred_train_all / 10\n",
        "    prediction_train_all_list.append(pred_train_all.copy())\n",
        "\n",
        "\n",
        "    df_importance = pd.DataFrame({\n",
        "        'column': feature_names,\n",
        "        'importance': lgb_model.feature_importances_,\n",
        "    })\n",
        "    df_importance_list.append(df_importance)\n",
        "\n",
        "    del lgb_model, pred_val, X_train, Y_train, X_val, Y_val\n",
        "    gc.collect()"
      ],
      "execution_count": 254,
      "outputs": [
        {
          "output_type": "stream",
          "text": [
            "\n",
            "Fold_1 Training ================================\n",
            "\n",
            "Training until validation scores don't improve for 50 rounds.\n",
            "Early stopping, best iteration is:\n",
            "[52]\ttrain's auc: 0.989975\tvalid's auc: 0.96635\n",
            "\n",
            "Fold_2 Training ================================\n",
            "\n",
            "Training until validation scores don't improve for 50 rounds.\n",
            "Early stopping, best iteration is:\n",
            "[45]\ttrain's auc: 0.988565\tvalid's auc: 0.962187\n",
            "\n",
            "Fold_3 Training ================================\n",
            "\n",
            "Training until validation scores don't improve for 50 rounds.\n",
            "Early stopping, best iteration is:\n",
            "[57]\ttrain's auc: 0.991232\tvalid's auc: 0.95389\n",
            "\n",
            "Fold_4 Training ================================\n",
            "\n",
            "Training until validation scores don't improve for 50 rounds.\n",
            "Early stopping, best iteration is:\n",
            "[53]\ttrain's auc: 0.989874\tvalid's auc: 0.975857\n",
            "\n",
            "Fold_5 Training ================================\n",
            "\n",
            "Training until validation scores don't improve for 50 rounds.\n",
            "Early stopping, best iteration is:\n",
            "[124]\ttrain's auc: 0.998075\tvalid's auc: 0.965862\n",
            "\n",
            "Fold_6 Training ================================\n",
            "\n",
            "Training until validation scores don't improve for 50 rounds.\n",
            "Early stopping, best iteration is:\n",
            "[92]\ttrain's auc: 0.996278\tvalid's auc: 0.959921\n",
            "\n",
            "Fold_7 Training ================================\n",
            "\n",
            "Training until validation scores don't improve for 50 rounds.\n",
            "Early stopping, best iteration is:\n",
            "[125]\ttrain's auc: 0.9981\tvalid's auc: 0.963026\n",
            "\n",
            "Fold_8 Training ================================\n",
            "\n",
            "Training until validation scores don't improve for 50 rounds.\n",
            "Early stopping, best iteration is:\n",
            "[74]\ttrain's auc: 0.994077\tvalid's auc: 0.963257\n",
            "\n",
            "Fold_9 Training ================================\n",
            "\n",
            "Training until validation scores don't improve for 50 rounds.\n",
            "Early stopping, best iteration is:\n",
            "[70]\ttrain's auc: 0.993446\tvalid's auc: 0.960769\n",
            "\n",
            "Fold_10 Training ================================\n",
            "\n",
            "Training until validation scores don't improve for 50 rounds.\n",
            "Early stopping, best iteration is:\n",
            "[62]\ttrain's auc: 0.992544\tvalid's auc: 0.960907\n"
          ],
          "name": "stdout"
        }
      ]
    },
    {
      "cell_type": "code",
      "metadata": {
        "id": "ZiCiXa5cbzsJ",
        "colab_type": "code",
        "colab": {}
      },
      "source": [
        "df_importance = pd.concat(df_importance_list)\n",
        "df_importance = df_importance.groupby(['column'])['importance'].agg(\n",
        "    'mean').sort_values(ascending=False).reset_index()\n",
        "df_importance"
      ],
      "execution_count": 0,
      "outputs": []
    },
    {
      "cell_type": "code",
      "metadata": {
        "id": "t7fVZ3pOb--z",
        "colab_type": "code",
        "colab": {}
      },
      "source": [
        "df_oof_train = pd.concat(oof, sort=False)"
      ],
      "execution_count": 0,
      "outputs": []
    },
    {
      "cell_type": "code",
      "metadata": {
        "id": "CqK2p9SxcsGe",
        "colab_type": "code",
        "outputId": "09fd51bb-9321-47c3-d3a1-7d63e444a5a0",
        "colab": {
          "base_uri": "https://localhost:8080/",
          "height": 204
        }
      },
      "source": [
        "df_oof_train.head()"
      ],
      "execution_count": 257,
      "outputs": [
        {
          "output_type": "execute_result",
          "data": {
            "text/html": [
              "<div>\n",
              "<style scoped>\n",
              "    .dataframe tbody tr th:only-of-type {\n",
              "        vertical-align: middle;\n",
              "    }\n",
              "\n",
              "    .dataframe tbody tr th {\n",
              "        vertical-align: top;\n",
              "    }\n",
              "\n",
              "    .dataframe thead th {\n",
              "        text-align: right;\n",
              "    }\n",
              "</style>\n",
              "<table border=\"1\" class=\"dataframe\">\n",
              "  <thead>\n",
              "    <tr style=\"text-align: right;\">\n",
              "      <th></th>\n",
              "      <th>y</th>\n",
              "      <th>pred</th>\n",
              "    </tr>\n",
              "  </thead>\n",
              "  <tbody>\n",
              "    <tr>\n",
              "      <th>58341</th>\n",
              "      <td>0</td>\n",
              "      <td>0.002080</td>\n",
              "    </tr>\n",
              "    <tr>\n",
              "      <th>77332</th>\n",
              "      <td>0</td>\n",
              "      <td>0.006443</td>\n",
              "    </tr>\n",
              "    <tr>\n",
              "      <th>95323</th>\n",
              "      <td>0</td>\n",
              "      <td>0.000686</td>\n",
              "    </tr>\n",
              "    <tr>\n",
              "      <th>58237</th>\n",
              "      <td>0</td>\n",
              "      <td>0.002078</td>\n",
              "    </tr>\n",
              "    <tr>\n",
              "      <th>62736</th>\n",
              "      <td>0</td>\n",
              "      <td>0.002229</td>\n",
              "    </tr>\n",
              "  </tbody>\n",
              "</table>\n",
              "</div>"
            ],
            "text/plain": [
              "       y      pred\n",
              "58341  0  0.002080\n",
              "77332  0  0.006443\n",
              "95323  0  0.000686\n",
              "58237  0  0.002078\n",
              "62736  0  0.002229"
            ]
          },
          "metadata": {
            "tags": []
          },
          "execution_count": 257
        }
      ]
    },
    {
      "cell_type": "code",
      "metadata": {
        "id": "e8jFT_AUdYln",
        "colab_type": "code",
        "colab": {}
      },
      "source": [
        "def pre2label(pred_list, threshold):\n",
        "  return [0 if pred < threshold else 1 for pred in pred_list]"
      ],
      "execution_count": 0,
      "outputs": []
    },
    {
      "cell_type": "code",
      "metadata": {
        "id": "pNn5Hphh5REN",
        "colab_type": "code",
        "colab": {}
      },
      "source": [
        "def score(labels, pres, threshold=0.5):\n",
        "  print(\"roc_auc_score: \"+str(roc_auc_score(labels, pres)))\n",
        "  print(\"accuracy_score: \"+str(accuracy_score(labels, pre2label(pres, threshold))))\n",
        "  print(\"recall_score: \"+str(recall_score(labels, pre2label(pres, threshold))))\n",
        "  print(\"precision_score: \"+str(precision_score(labels, pre2label(pres, threshold))))\n",
        "  print(\"f1_score: \"+str(f1_score(labels, pre2label(pres, threshold))))"
      ],
      "execution_count": 0,
      "outputs": []
    },
    {
      "cell_type": "markdown",
      "metadata": {
        "id": "ZefEv7AbFAx9",
        "colab_type": "text"
      },
      "source": [
        "# After Data mining (dk amnt Group)"
      ]
    },
    {
      "cell_type": "code",
      "metadata": {
        "id": "Ln5lS6jIFKzj",
        "colab_type": "code",
        "outputId": "559708d9-8f86-4784-c603-c00f287786c0",
        "colab": {
          "base_uri": "https://localhost:8080/",
          "height": 102
        }
      },
      "source": [
        "score(df_oof_train['y'], df_oof_train['pred'], 0.5)"
      ],
      "execution_count": 43,
      "outputs": [
        {
          "output_type": "stream",
          "text": [
            "roc_auc_score: 0.9626019212550064\n",
            "accuracy_score: 0.9748875\n",
            "recall_score: 0.529246168282765\n",
            "precision_score: 0.7704918032786885\n",
            "f1_score: 0.6274800667531986\n"
          ],
          "name": "stdout"
        }
      ]
    },
    {
      "cell_type": "code",
      "metadata": {
        "id": "eGYynomQFMPF",
        "colab_type": "code",
        "outputId": "4ad2f9b6-ffad-4891-e62f-8ef3c5acc16a",
        "colab": {
          "base_uri": "https://localhost:8080/",
          "height": 102
        }
      },
      "source": [
        "score(df_oof_train['y'], df_oof_train['pred'], 0.3)"
      ],
      "execution_count": 45,
      "outputs": [
        {
          "output_type": "stream",
          "text": [
            "roc_auc_score: 0.9626019212550064\n",
            "accuracy_score: 0.9721875\n",
            "recall_score: 0.6312167657178605\n",
            "precision_score: 0.6586161879895561\n",
            "f1_score: 0.6446254591918222\n"
          ],
          "name": "stdout"
        }
      ]
    },
    {
      "cell_type": "code",
      "metadata": {
        "id": "uUB-HVlDFOby",
        "colab_type": "code",
        "outputId": "cb81bebd-5531-42ae-ab68-7e4b7a720f1c",
        "colab": {
          "base_uri": "https://localhost:8080/",
          "height": 102
        }
      },
      "source": [
        "score(df_test[ycol], prediction['target'], 0.5)"
      ],
      "execution_count": 48,
      "outputs": [
        {
          "output_type": "stream",
          "text": [
            "roc_auc_score: 0.9621425130208333\n",
            "accuracy_score: 0.9752\n",
            "recall_score: 0.52875\n",
            "precision_score: 0.7804428044280443\n",
            "f1_score: 0.6304023845007451\n"
          ],
          "name": "stdout"
        }
      ]
    },
    {
      "cell_type": "code",
      "metadata": {
        "id": "psJXtTqGFRAC",
        "colab_type": "code",
        "outputId": "b38b13be-7b8a-45f9-e4ea-59df46179629",
        "colab": {
          "base_uri": "https://localhost:8080/",
          "height": 102
        }
      },
      "source": [
        "score(df_test[ycol], prediction['target'], 0.3)"
      ],
      "execution_count": 50,
      "outputs": [
        {
          "output_type": "stream",
          "text": [
            "roc_auc_score: 0.9621425130208333\n",
            "accuracy_score: 0.97235\n",
            "recall_score: 0.6325\n",
            "precision_score: 0.661437908496732\n",
            "f1_score: 0.6466453674121405\n"
          ],
          "name": "stdout"
        }
      ]
    },
    {
      "cell_type": "code",
      "metadata": {
        "id": "CqkiS2EmfwDL",
        "colab_type": "code",
        "colab": {
          "base_uri": "https://localhost:8080/",
          "height": 102
        },
        "outputId": "6fed6e95-0f7f-4d88-9f81-7d234654e237"
      },
      "source": [
        "score(df_train_all[ycol], prediction_train_all['target'], 0.5)"
      ],
      "execution_count": 258,
      "outputs": [
        {
          "output_type": "stream",
          "text": [
            "roc_auc_score: 0.9882003885443795\n",
            "accuracy_score: 0.9826\n",
            "recall_score: 0.6452339254440831\n",
            "precision_score: 0.8890037917959325\n",
            "f1_score: 0.7477529718759061\n"
          ],
          "name": "stdout"
        }
      ]
    },
    {
      "cell_type": "code",
      "metadata": {
        "id": "yNf47cQffw40",
        "colab_type": "code",
        "colab": {
          "base_uri": "https://localhost:8080/",
          "height": 102
        },
        "outputId": "6cbd5a56-ee7a-4cec-f98f-27657c9d081b"
      },
      "source": [
        "score(df_train_all[ycol], prediction_train_all['target'], 0.3)"
      ],
      "execution_count": 259,
      "outputs": [
        {
          "output_type": "stream",
          "text": [
            "roc_auc_score: 0.9882003885443795\n",
            "accuracy_score: 0.98264\n",
            "recall_score: 0.7823367525644234\n",
            "precision_score: 0.7831204608064112\n",
            "f1_score: 0.7827284105131415\n"
          ],
          "name": "stdout"
        }
      ]
    },
    {
      "cell_type": "markdown",
      "metadata": {
        "id": "LuTfycnZ7jx0",
        "colab_type": "text"
      },
      "source": [
        "# After Data mining (scr Group)"
      ]
    },
    {
      "cell_type": "code",
      "metadata": {
        "id": "fmi1BArb7iqj",
        "colab_type": "code",
        "outputId": "3cb98bc3-3a49-4354-cc3e-e7685a133beb",
        "colab": {
          "base_uri": "https://localhost:8080/",
          "height": 102
        }
      },
      "source": [
        "score(df_oof_train['y'], df_oof_train['pred'], 0.5)"
      ],
      "execution_count": 86,
      "outputs": [
        {
          "output_type": "stream",
          "text": [
            "roc_auc_score: 0.962000514207119\n",
            "accuracy_score: 0.9755125\n",
            "recall_score: 0.5386299655927432\n",
            "precision_score: 0.7805983680870353\n",
            "f1_score: 0.637423653525819\n"
          ],
          "name": "stdout"
        }
      ]
    },
    {
      "cell_type": "code",
      "metadata": {
        "id": "-0KmnJIP763q",
        "colab_type": "code",
        "outputId": "4ac1d7e7-be76-4b69-ee38-de1e815629ec",
        "colab": {
          "base_uri": "https://localhost:8080/",
          "height": 102
        }
      },
      "source": [
        "score(df_oof_train['y'], df_oof_train['pred'], 0.3)"
      ],
      "execution_count": 88,
      "outputs": [
        {
          "output_type": "stream",
          "text": [
            "roc_auc_score: 0.962000514207119\n",
            "accuracy_score: 0.9724375\n",
            "recall_score: 0.633406318423522\n",
            "precision_score: 0.6621975147155004\n",
            "f1_score: 0.6474820143884892\n"
          ],
          "name": "stdout"
        }
      ]
    },
    {
      "cell_type": "code",
      "metadata": {
        "id": "pjnVLibW78-t",
        "colab_type": "code",
        "outputId": "3ff82f6b-490e-4e13-9fa5-478461ae8877",
        "colab": {
          "base_uri": "https://localhost:8080/",
          "height": 102
        }
      },
      "source": [
        "score(df_test[ycol], prediction['target'], 0.5)"
      ],
      "execution_count": 90,
      "outputs": [
        {
          "output_type": "stream",
          "text": [
            "roc_auc_score: 0.9618130859374998\n",
            "accuracy_score: 0.97565\n",
            "recall_score: 0.53125\n",
            "precision_score: 0.7914338919925512\n",
            "f1_score: 0.6357516828721017\n"
          ],
          "name": "stdout"
        }
      ]
    },
    {
      "cell_type": "code",
      "metadata": {
        "id": "sNFbsZbp8A1o",
        "colab_type": "code",
        "outputId": "f3491eca-ac67-429e-8488-fab3f33ab09f",
        "colab": {
          "base_uri": "https://localhost:8080/",
          "height": 102
        }
      },
      "source": [
        "score(df_test[ycol], prediction['target'], 0.3)"
      ],
      "execution_count": 92,
      "outputs": [
        {
          "output_type": "stream",
          "text": [
            "roc_auc_score: 0.9618130859374998\n",
            "accuracy_score: 0.97225\n",
            "recall_score: 0.6325\n",
            "precision_score: 0.6597131681877445\n",
            "f1_score: 0.6458200382897256\n"
          ],
          "name": "stdout"
        }
      ]
    },
    {
      "cell_type": "code",
      "metadata": {
        "id": "r3qfYcBxeQlQ",
        "colab_type": "code",
        "colab": {
          "base_uri": "https://localhost:8080/",
          "height": 102
        },
        "outputId": "df9e2113-0549-4401-c744-5b8c95f2e52f"
      },
      "source": [
        "score(df_train_all[ycol], prediction_train_all['target'], 0.5)"
      ],
      "execution_count": 244,
      "outputs": [
        {
          "output_type": "stream",
          "text": [
            "roc_auc_score: 0.9874500288932938\n",
            "accuracy_score: 0.98202\n",
            "recall_score: 0.6314736052039029\n",
            "precision_score: 0.8859248859248859\n",
            "f1_score: 0.7373648846041485\n"
          ],
          "name": "stdout"
        }
      ]
    },
    {
      "cell_type": "code",
      "metadata": {
        "id": "i_3LreJPeQte",
        "colab_type": "code",
        "colab": {
          "base_uri": "https://localhost:8080/",
          "height": 102
        },
        "outputId": "3c6bd204-bee3-476b-acb1-11a9e843e014"
      },
      "source": [
        "score(df_train_all[ycol], prediction_train_all['target'], 0.3)"
      ],
      "execution_count": 245,
      "outputs": [
        {
          "output_type": "stream",
          "text": [
            "roc_auc_score: 0.9874500288932938\n",
            "accuracy_score: 0.98189\n",
            "recall_score: 0.7718288716537403\n",
            "precision_score: 0.7743473895582329\n",
            "f1_score: 0.7730860794386667\n"
          ],
          "name": "stdout"
        }
      ]
    },
    {
      "cell_type": "markdown",
      "metadata": {
        "id": "imSbQC4fZqzB",
        "colab_type": "text"
      },
      "source": [
        "# After Data mining (Basic Group)\n",
        "\n"
      ]
    },
    {
      "cell_type": "code",
      "metadata": {
        "id": "Q2XPzOLNsikA",
        "colab_type": "code",
        "outputId": "0ea3e8d1-9cf6-4ccb-b478-bbf755f25d98",
        "colab": {
          "base_uri": "https://localhost:8080/",
          "height": 102
        }
      },
      "source": [
        "score(df_oof_train['y'], df_oof_train['pred'], 0.5)"
      ],
      "execution_count": 106,
      "outputs": [
        {
          "output_type": "stream",
          "text": [
            "roc_auc_score: 0.9623005151955559\n",
            "accuracy_score: 0.975175\n",
            "recall_score: 0.5351892399124178\n",
            "precision_score: 0.7738579828132067\n",
            "f1_score: 0.632766272189349\n"
          ],
          "name": "stdout"
        }
      ]
    },
    {
      "cell_type": "code",
      "metadata": {
        "id": "7eE00TnX3jek",
        "colab_type": "code",
        "outputId": "df109ef8-3c9a-4153-a272-a58a4baec000",
        "colab": {
          "base_uri": "https://localhost:8080/",
          "height": 102
        }
      },
      "source": [
        "score(df_oof_train['y'], df_oof_train['pred'], 0.3)"
      ],
      "execution_count": 107,
      "outputs": [
        {
          "output_type": "stream",
          "text": [
            "roc_auc_score: 0.9623005151955559\n",
            "accuracy_score: 0.9725\n",
            "recall_score: 0.6362214576165155\n",
            "precision_score: 0.6623249755779876\n",
            "f1_score: 0.6490108487555839\n"
          ],
          "name": "stdout"
        }
      ]
    },
    {
      "cell_type": "code",
      "metadata": {
        "id": "nyZhm6Ai3otG",
        "colab_type": "code",
        "outputId": "d2845b71-82fc-4842-ea93-a8fa4c2be6fd",
        "colab": {
          "base_uri": "https://localhost:8080/",
          "height": 102
        }
      },
      "source": [
        "score(df_test[ycol], prediction['target'], 0.5)"
      ],
      "execution_count": 108,
      "outputs": [
        {
          "output_type": "stream",
          "text": [
            "roc_auc_score: 0.9621179687500001\n",
            "accuracy_score: 0.97535\n",
            "recall_score: 0.53\n",
            "precision_score: 0.7837338262476895\n",
            "f1_score: 0.6323639075316928\n"
          ],
          "name": "stdout"
        }
      ]
    },
    {
      "cell_type": "code",
      "metadata": {
        "id": "q7HpXWwR3saJ",
        "colab_type": "code",
        "outputId": "b76618e5-9e88-43a6-a578-fd642617e0d7",
        "colab": {
          "base_uri": "https://localhost:8080/",
          "height": 102
        }
      },
      "source": [
        "score(df_test[ycol], prediction['target'], 0.3)"
      ],
      "execution_count": 109,
      "outputs": [
        {
          "output_type": "stream",
          "text": [
            "roc_auc_score: 0.9621179687500001\n",
            "accuracy_score: 0.97255\n",
            "recall_score: 0.6375\n",
            "precision_score: 0.6631989596879063\n",
            "f1_score: 0.6500956022944551\n"
          ],
          "name": "stdout"
        }
      ]
    },
    {
      "cell_type": "code",
      "metadata": {
        "id": "a6RVXhLldIGa",
        "colab_type": "code",
        "colab": {
          "base_uri": "https://localhost:8080/",
          "height": 102
        },
        "outputId": "630b3e62-5b9a-4aba-fd15-b9e1749149eb"
      },
      "source": [
        "score(df_train_all[ycol], prediction_train_all['target'], 0.5)"
      ],
      "execution_count": 229,
      "outputs": [
        {
          "output_type": "stream",
          "text": [
            "roc_auc_score: 0.9875234775195488\n",
            "accuracy_score: 0.98197\n",
            "recall_score: 0.6307230422817113\n",
            "precision_score: 0.8851825842696629\n",
            "f1_score: 0.7365960555149744\n"
          ],
          "name": "stdout"
        }
      ]
    },
    {
      "cell_type": "code",
      "metadata": {
        "id": "iV1hl2XzdIif",
        "colab_type": "code",
        "colab": {
          "base_uri": "https://localhost:8080/",
          "height": 102
        },
        "outputId": "ee3b9bda-c7cb-41b4-cbcc-20168e13431b"
      },
      "source": [
        "score(df_train_all[ycol], prediction_train_all['target'], 0.3)"
      ],
      "execution_count": 230,
      "outputs": [
        {
          "output_type": "stream",
          "text": [
            "roc_auc_score: 0.9875234775195488\n",
            "accuracy_score: 0.9817\n",
            "recall_score: 0.7713284963722792\n",
            "precision_score: 0.770942735683921\n",
            "f1_score: 0.7711355677838919\n"
          ],
          "name": "stdout"
        }
      ]
    },
    {
      "cell_type": "markdown",
      "metadata": {
        "id": "Ss5RONV5fdaf",
        "colab_type": "text"
      },
      "source": [
        "# Basic Features"
      ]
    },
    {
      "cell_type": "code",
      "metadata": {
        "id": "cUWA9MfsfjQv",
        "colab_type": "code",
        "colab": {
          "base_uri": "https://localhost:8080/",
          "height": 102
        },
        "outputId": "929dc222-0195-4913-fbbb-5351f53780b4"
      },
      "source": [
        "score(df_oof_train['y'], df_oof_train['pred'], 0.5)"
      ],
      "execution_count": 151,
      "outputs": [
        {
          "output_type": "stream",
          "text": [
            "roc_auc_score: 0.9628956910589479\n",
            "accuracy_score: 0.9755125\n",
            "recall_score: 0.5361276196434157\n",
            "precision_score: 0.782648401826484\n",
            "f1_score: 0.6363467607202524\n"
          ],
          "name": "stdout"
        }
      ]
    },
    {
      "cell_type": "code",
      "metadata": {
        "id": "Gpyhlf75fqIR",
        "colab_type": "code",
        "colab": {
          "base_uri": "https://localhost:8080/",
          "height": 102
        },
        "outputId": "b093cf74-67c5-4773-d25d-c5665073721f"
      },
      "source": [
        "score(df_oof_train['y'], df_oof_train['pred'], 0.3)"
      ],
      "execution_count": 152,
      "outputs": [
        {
          "output_type": "stream",
          "text": [
            "roc_auc_score: 0.9628956910589479\n",
            "accuracy_score: 0.9723875\n",
            "recall_score: 0.6249609008445418\n",
            "precision_score: 0.6642287234042553\n",
            "f1_score: 0.6439967767929091\n"
          ],
          "name": "stdout"
        }
      ]
    },
    {
      "cell_type": "code",
      "metadata": {
        "id": "I2C08lisfrgW",
        "colab_type": "code",
        "colab": {
          "base_uri": "https://localhost:8080/",
          "height": 102
        },
        "outputId": "1fb435e2-9037-411c-d23f-92580215a3ce"
      },
      "source": [
        "score(df_test[ycol], prediction['target'], 0.5)"
      ],
      "execution_count": 153,
      "outputs": [
        {
          "output_type": "stream",
          "text": [
            "roc_auc_score: 0.9621458984375001\n",
            "accuracy_score: 0.9752\n",
            "recall_score: 0.5225\n",
            "precision_score: 0.7857142857142857\n",
            "f1_score: 0.6276276276276276\n"
          ],
          "name": "stdout"
        }
      ]
    },
    {
      "cell_type": "code",
      "metadata": {
        "id": "Esuy6INHfr_j",
        "colab_type": "code",
        "colab": {
          "base_uri": "https://localhost:8080/",
          "height": 102
        },
        "outputId": "7711f4f4-eadf-4bb7-e61d-82fbd70c306c"
      },
      "source": [
        "score(df_test[ycol], prediction['target'], 0.3)"
      ],
      "execution_count": 154,
      "outputs": [
        {
          "output_type": "stream",
          "text": [
            "roc_auc_score: 0.9621458984375001\n",
            "accuracy_score: 0.97325\n",
            "recall_score: 0.64\n",
            "precision_score: 0.6745718050065876\n",
            "f1_score: 0.6568313021167416\n"
          ],
          "name": "stdout"
        }
      ]
    },
    {
      "cell_type": "code",
      "metadata": {
        "id": "ny6EVPzHcNPC",
        "colab_type": "code",
        "colab": {
          "base_uri": "https://localhost:8080/",
          "height": 102
        },
        "outputId": "bd20bdc4-be77-47b6-bb59-6107811f2a47"
      },
      "source": [
        "score(df_train_all[ycol], prediction_train_all['target'], 0.5)"
      ],
      "execution_count": 215,
      "outputs": [
        {
          "output_type": "stream",
          "text": [
            "roc_auc_score: 0.9849011994665718\n",
            "accuracy_score: 0.98038\n",
            "recall_score: 0.6014510883162372\n",
            "precision_score: 0.86693112152903\n",
            "f1_score: 0.710192023633678\n"
          ],
          "name": "stdout"
        }
      ]
    },
    {
      "cell_type": "code",
      "metadata": {
        "id": "9e31s7fccNIp",
        "colab_type": "code",
        "colab": {
          "base_uri": "https://localhost:8080/",
          "height": 102
        },
        "outputId": "1488bf6c-5529-4ef7-f365-9d9a63ab3ae1"
      },
      "source": [
        "score(df_train_all[ycol], prediction_train_all['target'], 0.3)"
      ],
      "execution_count": 216,
      "outputs": [
        {
          "output_type": "stream",
          "text": [
            "roc_auc_score: 0.9849011994665718\n",
            "accuracy_score: 0.97992\n",
            "recall_score: 0.7380535401551164\n",
            "precision_score: 0.7542827921247762\n",
            "f1_score: 0.7460799190692969\n"
          ],
          "name": "stdout"
        }
      ]
    },
    {
      "cell_type": "markdown",
      "metadata": {
        "id": "-S4GkhoRib-H",
        "colab_type": "text"
      },
      "source": [
        "# Baseline"
      ]
    },
    {
      "cell_type": "code",
      "metadata": {
        "id": "Xkv4NwBfsIeM",
        "colab_type": "code",
        "outputId": "9660171b-c248-4705-95cf-e287db1c7688",
        "colab": {
          "base_uri": "https://localhost:8080/",
          "height": 102
        }
      },
      "source": [
        "score(df_oof_train['y'], df_oof_train['pred'], 0.5)"
      ],
      "execution_count": 122,
      "outputs": [
        {
          "output_type": "stream",
          "text": [
            "roc_auc_score: 0.9631984268450245\n",
            "accuracy_score: 0.9750125\n",
            "recall_score: 0.5333124804504222\n",
            "precision_score: 0.7707956600361664\n",
            "f1_score: 0.6304307635422444\n"
          ],
          "name": "stdout"
        }
      ]
    },
    {
      "cell_type": "code",
      "metadata": {
        "id": "0O_Iqv-MsOAe",
        "colab_type": "code",
        "outputId": "4f416aa8-786f-42bd-99e0-a8df0b5c0256",
        "colab": {
          "base_uri": "https://localhost:8080/",
          "height": 102
        }
      },
      "source": [
        "score(df_oof_train['y'], df_oof_train['pred'], 0.3)"
      ],
      "execution_count": 123,
      "outputs": [
        {
          "output_type": "stream",
          "text": [
            "roc_auc_score: 0.9631984268450245\n",
            "accuracy_score: 0.972175\n",
            "recall_score: 0.633406318423522\n",
            "precision_score: 0.6576810652809354\n",
            "f1_score: 0.6453154875717017\n"
          ],
          "name": "stdout"
        }
      ]
    },
    {
      "cell_type": "code",
      "metadata": {
        "id": "MLFS5Sz__z7x",
        "colab_type": "code",
        "outputId": "aff2e553-34c8-44b4-d4c5-26df948b7b89",
        "colab": {
          "base_uri": "https://localhost:8080/",
          "height": 102
        }
      },
      "source": [
        "score(df_test[ycol], prediction['target'], 0.5)"
      ],
      "execution_count": 124,
      "outputs": [
        {
          "output_type": "stream",
          "text": [
            "roc_auc_score: 0.9625846354166665\n",
            "accuracy_score: 0.9754\n",
            "recall_score: 0.52875\n",
            "precision_score: 0.7862453531598513\n",
            "f1_score: 0.6322869955156951\n"
          ],
          "name": "stdout"
        }
      ]
    },
    {
      "cell_type": "code",
      "metadata": {
        "id": "QO0UJYH8_1zB",
        "colab_type": "code",
        "outputId": "baef42b3-310c-4451-ef5d-3b74f1592311",
        "colab": {
          "base_uri": "https://localhost:8080/",
          "height": 102
        }
      },
      "source": [
        "score(df_test[ycol], prediction['target'], 0.3)"
      ],
      "execution_count": 125,
      "outputs": [
        {
          "output_type": "stream",
          "text": [
            "roc_auc_score: 0.9625846354166665\n",
            "accuracy_score: 0.97285\n",
            "recall_score: 0.6475\n",
            "precision_score: 0.6649550706033376\n",
            "f1_score: 0.6561114629512349\n"
          ],
          "name": "stdout"
        }
      ]
    },
    {
      "cell_type": "code",
      "metadata": {
        "id": "h0aFLyZAbfkO",
        "colab_type": "code",
        "colab": {
          "base_uri": "https://localhost:8080/",
          "height": 102
        },
        "outputId": "b581aeca-f512-4d7e-f85c-6dafb26c9e98"
      },
      "source": [
        "score(df_train_all[ycol], prediction_train_all['target'], 0.5)"
      ],
      "execution_count": 200,
      "outputs": [
        {
          "output_type": "stream",
          "text": [
            "roc_auc_score: 0.9822388431272205\n",
            "accuracy_score: 0.97952\n",
            "recall_score: 0.5884413309982487\n",
            "precision_score: 0.8537205081669691\n",
            "f1_score: 0.6966824644549764\n"
          ],
          "name": "stdout"
        }
      ]
    },
    {
      "cell_type": "code",
      "metadata": {
        "id": "9wfEx_mgbfuS",
        "colab_type": "code",
        "colab": {
          "base_uri": "https://localhost:8080/",
          "height": 102
        },
        "outputId": "b33f06b6-f5e1-49d0-82cf-00c7f45b47da"
      },
      "source": [
        "score(df_train_all[ycol], prediction_train_all['target'], 0.3)"
      ],
      "execution_count": 201,
      "outputs": [
        {
          "output_type": "stream",
          "text": [
            "roc_auc_score: 0.9822388431272205\n",
            "accuracy_score: 0.97841\n",
            "recall_score: 0.7200400300225169\n",
            "precision_score: 0.734558448187851\n",
            "f1_score: 0.7272267845862286\n"
          ],
          "name": "stdout"
        }
      ]
    },
    {
      "cell_type": "markdown",
      "metadata": {
        "id": "j-WwF8zqj6Rr",
        "colab_type": "text"
      },
      "source": [
        "# Results"
      ]
    },
    {
      "cell_type": "code",
      "metadata": {
        "id": "WalXFrEvhH9h",
        "colab_type": "code",
        "colab": {}
      },
      "source": [
        "res = [\n",
        "       [0.9631984268450245, 0.972175, 0.6453154875717017, 0.9625846354166665, 0.97285, 0.6561114629512349, 0.9822388431272205, 0.97841, 0.7272267845862286],\n",
        "       [0.9628956910589479, 0.9723875, 0.6439967767929091, 0.9621458984375001, 0.97325, 0.6568313021167416, 0.9849011994665718, 0.97992, 0.7460799190692969],\n",
        "       [0.9623005151955559, 0.9725, 0.6490108487555839, 0.9621179687500001, 0.97255, 0.6500956022944551, 0.9875234775195488, 0.9817, 0.7711355677838919],\n",
        "       [0.962000514207119, 0.9724375, 0.6474820143884892, 0.9618130859374998, 0.97225, 0.6458200382897256, 0.9874500288932938, 0.98189, 0.7730860794386667],\n",
        "       [0.9626019212550064, 0.9721875, 0.6446254591918222, 0.9621425130208333, 0.97235, 0.6466453674121405, 0.9882003885443795, 0.98264, 0.7827284105131415]\n",
        "]"
      ],
      "execution_count": 0,
      "outputs": []
    },
    {
      "cell_type": "code",
      "metadata": {
        "id": "aOzEvUjaj_Do",
        "colab_type": "code",
        "colab": {}
      },
      "source": [
        "import matplotlib.pyplot as plt"
      ],
      "execution_count": 0,
      "outputs": []
    },
    {
      "cell_type": "code",
      "metadata": {
        "id": "FpVbVg_ukOPA",
        "colab_type": "code",
        "colab": {
          "base_uri": "https://localhost:8080/",
          "height": 312
        },
        "outputId": "b7cd82fa-2baa-4d00-8301-5de6a577d099"
      },
      "source": [
        "plt.plot([row[0] for row in res], label='dev')\n",
        "plt.plot([row[3] for row in res], label='test')\n",
        "plt.xlabel('Experiment index: 0-Basseline; 1-Basic Features; 2-Basic Group; 3-scr Group; 4-dk amnt Group')\n",
        "plt.ylabel('roc_auc_score')\n",
        "plt.title('Dev vs Test on roc_auc_score')\n",
        "plt.legend()"
      ],
      "execution_count": 291,
      "outputs": [
        {
          "output_type": "execute_result",
          "data": {
            "text/plain": [
              "<matplotlib.legend.Legend at 0x7fb435f0bb00>"
            ]
          },
          "metadata": {
            "tags": []
          },
          "execution_count": 291
        },
        {
          "output_type": "display_data",
          "data": {
            "image/png": "[encoded data removed]",
            "text/plain": [
              "<Figure size 432x288 with 1 Axes>"
            ]
          },
          "metadata": {
            "tags": [],
            "needs_background": "light"
          }
        }
      ]
    },
    {
      "cell_type": "code",
      "metadata": {
        "id": "vcfYC_DDlb47",
        "colab_type": "code",
        "colab": {
          "base_uri": "https://localhost:8080/",
          "height": 312
        },
        "outputId": "627a108b-2368-42c8-d54a-f8e0a58d8eef"
      },
      "source": [
        "plt.plot([row[1] for row in res], label='dev')\n",
        "plt.plot([row[4] for row in res], label='test')\n",
        "plt.xlabel('Experiment index: 0-Basseline; 1-Basic Features; 2-Basic Group; 3-scr Group; 4-dk amnt Group')\n",
        "plt.ylabel('accuracy_score')\n",
        "plt.title('Dev vs Test on accuracy_score (threshold=0.3)')\n",
        "plt.legend()"
      ],
      "execution_count": 293,
      "outputs": [
        {
          "output_type": "execute_result",
          "data": {
            "text/plain": [
              "<matplotlib.legend.Legend at 0x7fb435e14d30>"
            ]
          },
          "metadata": {
            "tags": []
          },
          "execution_count": 293
        },
        {
          "output_type": "display_data",
          "data": {
            "image/png": "[encoded data removed]",
            "text/plain": [
              "<Figure size 432x288 with 1 Axes>"
            ]
          },
          "metadata": {
            "tags": [],
            "needs_background": "light"
          }
        }
      ]
    },
    {
      "cell_type": "code",
      "metadata": {
        "id": "0XNWcYexlom-",
        "colab_type": "code",
        "colab": {
          "base_uri": "https://localhost:8080/",
          "height": 312
        },
        "outputId": "3c1bec54-e626-4dfb-a51a-21e86a05f56d"
      },
      "source": [
        "plt.plot([row[2] for row in res], label='dev')\n",
        "plt.plot([row[5] for row in res], label='test')\n",
        "plt.xlabel('Experiment index: 0-Basseline; 1-Basic Features; 2-Basic Group; 3-scr Group; 4-dk amnt Group')\n",
        "plt.ylabel('f1_score')\n",
        "plt.title('Dev vs Test on f1_score (threshold=0.3)')\n",
        "plt.legend()"
      ],
      "execution_count": 294,
      "outputs": [
        {
          "output_type": "execute_result",
          "data": {
            "text/plain": [
              "<matplotlib.legend.Legend at 0x7fb435d8ccf8>"
            ]
          },
          "metadata": {
            "tags": []
          },
          "execution_count": 294
        },
        {
          "output_type": "display_data",
          "data": {
            "image/png": "[encoded data removed]",
            "text/plain": [
              "<Figure size 432x288 with 1 Axes>"
            ]
          },
          "metadata": {
            "tags": [],
            "needs_background": "light"
          }
        }
      ]
    },
    {
      "cell_type": "code",
      "metadata": {
        "id": "mcIfN3ZJlt1E",
        "colab_type": "code",
        "colab": {
          "base_uri": "https://localhost:8080/",
          "height": 312
        },
        "outputId": "f83cb1ef-85a8-4884-ceb0-eccb5e3bef27"
      },
      "source": [
        "plt.plot([row[0] for row in res], label='dev')\n",
        "plt.plot([row[3] for row in res], label='test')\n",
        "plt.plot([row[6] for row in res], label='full')\n",
        "plt.xlabel('Experiment index: 0-Basseline; 1-Basic Features; 2-Basic Group; 3-scr Group; 4-dk amnt Group')\n",
        "plt.ylabel('roc_auc_score')\n",
        "plt.title('Full vs (Dev / Test) on roc_auc_score')\n",
        "plt.legend()"
      ],
      "execution_count": 295,
      "outputs": [
        {
          "output_type": "execute_result",
          "data": {
            "text/plain": [
              "<matplotlib.legend.Legend at 0x7fb435cec2b0>"
            ]
          },
          "metadata": {
            "tags": []
          },
          "execution_count": 295
        },
        {
          "output_type": "display_data",
          "data": {
            "image/png": "[encoded data removed]",
            "text/plain": [
              "<Figure size 432x288 with 1 Axes>"
            ]
          },
          "metadata": {
            "tags": [],
            "needs_background": "light"
          }
        }
      ]
    },
    {
      "cell_type": "code",
      "metadata": {
        "id": "FHs8g83PmYcr",
        "colab_type": "code",
        "colab": {
          "base_uri": "https://localhost:8080/",
          "height": 312
        },
        "outputId": "ded30eb4-f55c-4c01-f805-849cd6d45de2"
      },
      "source": [
        "plt.plot([row[1] for row in res], label='dev')\n",
        "plt.plot([row[4] for row in res], label='test')\n",
        "plt.plot([row[7] for row in res], label='full')\n",
        "plt.xlabel('Experiment index: 0-Basseline; 1-Basic Features; 2-Basic Group; 3-scr Group; 4-dk amnt Group')\n",
        "plt.ylabel('accuracy_score')\n",
        "plt.title('Full vs (Dev / Test) on accuracy_score (threshold=0.3)')\n",
        "plt.legend()"
      ],
      "execution_count": 298,
      "outputs": [
        {
          "output_type": "execute_result",
          "data": {
            "text/plain": [
              "<matplotlib.legend.Legend at 0x7fb435b88eb8>"
            ]
          },
          "metadata": {
            "tags": []
          },
          "execution_count": 298
        },
        {
          "output_type": "display_data",
          "data": {
            "image/png": "[encoded data removed]",
            "text/plain": [
              "<Figure size 432x288 with 1 Axes>"
            ]
          },
          "metadata": {
            "tags": [],
            "needs_background": "light"
          }
        }
      ]
    },
    {
      "cell_type": "code",
      "metadata": {
        "id": "UJ3q6gTqmeyU",
        "colab_type": "code",
        "colab": {
          "base_uri": "https://localhost:8080/",
          "height": 312
        },
        "outputId": "45ddd6b9-0377-42f6-f2bc-2f285d64c120"
      },
      "source": [
        "plt.plot([row[2] for row in res], label='dev')\n",
        "plt.plot([row[5] for row in res], label='test')\n",
        "plt.plot([row[8] for row in res], label='full')\n",
        "plt.xlabel('Experiment index: 0-Basseline; 1-Basic Features; 2-Basic Group; 3-scr Group; 4-dk amnt Group')\n",
        "plt.ylabel('f1_score')\n",
        "plt.title('Full vs (Dev / Test) on f1_score (threshold=0.3)')\n",
        "plt.legend()"
      ],
      "execution_count": 296,
      "outputs": [
        {
          "output_type": "execute_result",
          "data": {
            "text/plain": [
              "<matplotlib.legend.Legend at 0x7fb435d51828>"
            ]
          },
          "metadata": {
            "tags": []
          },
          "execution_count": 296
        },
        {
          "output_type": "display_data",
          "data": {
            "image/png": "[encoded data removed]",
            "text/plain": [
              "<Figure size 432x288 with 1 Axes>"
            ]
          },
          "metadata": {
            "tags": [],
            "needs_background": "light"
          }
        }
      ]
    }
  ]
}